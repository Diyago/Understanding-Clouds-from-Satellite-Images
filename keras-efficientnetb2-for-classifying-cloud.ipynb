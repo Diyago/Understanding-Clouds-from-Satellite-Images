{
 "cells": [
  {
   "cell_type": "code",
   "execution_count": 1,
   "metadata": {
    "ExecuteTime": {
     "end_time": "2019-11-16T15:18:28.144237Z",
     "start_time": "2019-11-16T15:18:23.607292Z"
    },
    "_kg_hide-input": true,
    "_kg_hide-output": true
   },
   "outputs": [
    {
     "name": "stderr",
     "output_type": "stream",
     "text": [
      "Using TensorFlow backend.\n"
     ]
    }
   ],
   "source": [
    "import os, glob\n",
    "import random\n",
    "from sklearn.model_selection import train_test_split\n",
    "import cv2\n",
    "import numpy as np\n",
    "import pandas as pd\n",
    "import multiprocessing\n",
    "from copy import deepcopy\n",
    "from sklearn.metrics import precision_recall_curve, auc\n",
    "import keras\n",
    "import keras.backend as K\n",
    "from keras.optimizers import Adam\n",
    "from keras.callbacks import Callback\n",
    "from keras.applications.densenet import DenseNet201\n",
    "from keras.layers import Dense, Flatten\n",
    "from keras.models import Model, load_model\n",
    "from keras.utils import Sequence\n",
    "from albumentations import Compose, VerticalFlip, HorizontalFlip, Rotate, GridDistortion\n",
    "import matplotlib.pyplot as plt\n",
    "from IPython.display import Image\n",
    "from tqdm import tqdm_notebook as tqdm\n",
    "from numpy.random import seed\n",
    "seed(10)\n",
    "from tensorflow import set_random_seed\n",
    "set_random_seed(10)\n",
    "%matplotlib inline"
   ]
  },
  {
   "cell_type": "code",
   "execution_count": 2,
   "metadata": {
    "ExecuteTime": {
     "end_time": "2019-11-16T15:18:28.154239Z",
     "start_time": "2019-11-16T15:18:28.151574Z"
    },
    "_kg_hide-input": true,
    "_kg_hide-output": true
   },
   "outputs": [],
   "source": [
    "test_imgs_folder = '/home/dex/Desktop/ml/cloud data//test_images/'\n",
    "train_imgs_folder = '/home/dex/Desktop/ml/cloud data//train_images/'\n",
    "num_cores = multiprocessing.cpu_count()"
   ]
  },
  {
   "cell_type": "markdown",
   "metadata": {},
   "source": [
    "# Data Generators"
   ]
  },
  {
   "cell_type": "markdown",
   "metadata": {},
   "source": [
    "## One-hot encoding classes"
   ]
  },
  {
   "cell_type": "code",
   "execution_count": 3,
   "metadata": {
    "ExecuteTime": {
     "end_time": "2019-11-16T15:18:29.700482Z",
     "start_time": "2019-11-16T15:18:28.160867Z"
    },
    "_kg_hide-input": true
   },
   "outputs": [
    {
     "data": {
      "text/html": [
       "<div>\n",
       "<style scoped>\n",
       "    .dataframe tbody tr th:only-of-type {\n",
       "        vertical-align: middle;\n",
       "    }\n",
       "\n",
       "    .dataframe tbody tr th {\n",
       "        vertical-align: top;\n",
       "    }\n",
       "\n",
       "    .dataframe thead th {\n",
       "        text-align: right;\n",
       "    }\n",
       "</style>\n",
       "<table border=\"1\" class=\"dataframe\">\n",
       "  <thead>\n",
       "    <tr style=\"text-align: right;\">\n",
       "      <th></th>\n",
       "      <th>Image_Label</th>\n",
       "      <th>EncodedPixels</th>\n",
       "    </tr>\n",
       "  </thead>\n",
       "  <tbody>\n",
       "    <tr>\n",
       "      <th>0</th>\n",
       "      <td>0011165.jpg_Fish</td>\n",
       "      <td>264918 937 266318 937 267718 937 269118 937 27...</td>\n",
       "    </tr>\n",
       "    <tr>\n",
       "      <th>1</th>\n",
       "      <td>0011165.jpg_Flower</td>\n",
       "      <td>1355565 1002 1356965 1002 1358365 1002 1359765...</td>\n",
       "    </tr>\n",
       "    <tr>\n",
       "      <th>2</th>\n",
       "      <td>0011165.jpg_Gravel</td>\n",
       "      <td>NaN</td>\n",
       "    </tr>\n",
       "    <tr>\n",
       "      <th>3</th>\n",
       "      <td>0011165.jpg_Sugar</td>\n",
       "      <td>NaN</td>\n",
       "    </tr>\n",
       "    <tr>\n",
       "      <th>4</th>\n",
       "      <td>002be4f.jpg_Fish</td>\n",
       "      <td>233813 878 235213 878 236613 878 238010 881 23...</td>\n",
       "    </tr>\n",
       "  </tbody>\n",
       "</table>\n",
       "</div>"
      ],
      "text/plain": [
       "          Image_Label                                      EncodedPixels\n",
       "0    0011165.jpg_Fish  264918 937 266318 937 267718 937 269118 937 27...\n",
       "1  0011165.jpg_Flower  1355565 1002 1356965 1002 1358365 1002 1359765...\n",
       "2  0011165.jpg_Gravel                                                NaN\n",
       "3   0011165.jpg_Sugar                                                NaN\n",
       "4    002be4f.jpg_Fish  233813 878 235213 878 236613 878 238010 881 23..."
      ]
     },
     "execution_count": 3,
     "metadata": {},
     "output_type": "execute_result"
    }
   ],
   "source": [
    "train_df = pd.read_csv('/home/dex/Desktop/ml/cloud data/train.csv')\n",
    "train_df.head()"
   ]
  },
  {
   "cell_type": "code",
   "execution_count": 4,
   "metadata": {
    "ExecuteTime": {
     "end_time": "2019-11-16T15:18:29.891133Z",
     "start_time": "2019-11-16T15:18:29.714729Z"
    },
    "_kg_hide-input": false
   },
   "outputs": [
    {
     "data": {
      "text/html": [
       "<div>\n",
       "<style scoped>\n",
       "    .dataframe tbody tr th:only-of-type {\n",
       "        vertical-align: middle;\n",
       "    }\n",
       "\n",
       "    .dataframe tbody tr th {\n",
       "        vertical-align: top;\n",
       "    }\n",
       "\n",
       "    .dataframe thead th {\n",
       "        text-align: right;\n",
       "    }\n",
       "</style>\n",
       "<table border=\"1\" class=\"dataframe\">\n",
       "  <thead>\n",
       "    <tr style=\"text-align: right;\">\n",
       "      <th></th>\n",
       "      <th>Image</th>\n",
       "      <th>Class</th>\n",
       "      <th>Fish</th>\n",
       "      <th>Flower</th>\n",
       "      <th>Sugar</th>\n",
       "      <th>Gravel</th>\n",
       "    </tr>\n",
       "  </thead>\n",
       "  <tbody>\n",
       "    <tr>\n",
       "      <th>0</th>\n",
       "      <td>0011165.jpg</td>\n",
       "      <td>{Flower, Fish}</td>\n",
       "      <td>1</td>\n",
       "      <td>1</td>\n",
       "      <td>0</td>\n",
       "      <td>0</td>\n",
       "    </tr>\n",
       "    <tr>\n",
       "      <th>1</th>\n",
       "      <td>002be4f.jpg</td>\n",
       "      <td>{Flower, Fish, Sugar}</td>\n",
       "      <td>1</td>\n",
       "      <td>1</td>\n",
       "      <td>1</td>\n",
       "      <td>0</td>\n",
       "    </tr>\n",
       "    <tr>\n",
       "      <th>2</th>\n",
       "      <td>0031ae9.jpg</td>\n",
       "      <td>{Flower, Fish, Sugar}</td>\n",
       "      <td>1</td>\n",
       "      <td>1</td>\n",
       "      <td>1</td>\n",
       "      <td>0</td>\n",
       "    </tr>\n",
       "    <tr>\n",
       "      <th>3</th>\n",
       "      <td>0035239.jpg</td>\n",
       "      <td>{Flower, Gravel}</td>\n",
       "      <td>0</td>\n",
       "      <td>1</td>\n",
       "      <td>0</td>\n",
       "      <td>1</td>\n",
       "    </tr>\n",
       "    <tr>\n",
       "      <th>4</th>\n",
       "      <td>003994e.jpg</td>\n",
       "      <td>{Fish, Gravel, Sugar}</td>\n",
       "      <td>1</td>\n",
       "      <td>0</td>\n",
       "      <td>1</td>\n",
       "      <td>1</td>\n",
       "    </tr>\n",
       "  </tbody>\n",
       "</table>\n",
       "</div>"
      ],
      "text/plain": [
       "         Image                  Class  Fish  Flower  Sugar  Gravel\n",
       "0  0011165.jpg         {Flower, Fish}     1       1      0       0\n",
       "1  002be4f.jpg  {Flower, Fish, Sugar}     1       1      1       0\n",
       "2  0031ae9.jpg  {Flower, Fish, Sugar}     1       1      1       0\n",
       "3  0035239.jpg       {Flower, Gravel}     0       1      0       1\n",
       "4  003994e.jpg  {Fish, Gravel, Sugar}     1       0      1       1"
      ]
     },
     "execution_count": 4,
     "metadata": {},
     "output_type": "execute_result"
    }
   ],
   "source": [
    "train_df = train_df[~train_df['EncodedPixels'].isnull()]\n",
    "train_df['Image'] = train_df['Image_Label'].map(lambda x: x.split('_')[0])\n",
    "train_df['Class'] = train_df['Image_Label'].map(lambda x: x.split('_')[1])\n",
    "classes = train_df['Class'].unique()\n",
    "train_df = train_df.groupby('Image')['Class'].agg(set).reset_index()\n",
    "for class_name in classes:\n",
    "    train_df[class_name] = train_df['Class'].map(lambda x: 1 if class_name in x else 0)\n",
    "train_df.head()"
   ]
  },
  {
   "cell_type": "code",
   "execution_count": 11,
   "metadata": {
    "ExecuteTime": {
     "end_time": "2019-11-12T18:40:12.951297Z",
     "start_time": "2019-11-12T18:40:12.939657Z"
    }
   },
   "outputs": [],
   "source": [
    "# dictionary for fast access to ohe vectors\n",
    "img_2_ohe_vector = {img:vec for img, vec in zip(train_df['Image'], train_df.iloc[:, 2:].values)}"
   ]
  },
  {
   "cell_type": "markdown",
   "metadata": {},
   "source": [
    "## Stratified split into train/val"
   ]
  },
  {
   "cell_type": "code",
   "execution_count": 5,
   "metadata": {
    "ExecuteTime": {
     "end_time": "2019-11-16T15:18:31.261937Z",
     "start_time": "2019-11-16T15:18:31.246149Z"
    }
   },
   "outputs": [],
   "source": [
    "train_imgs, val_imgs = train_test_split(train_df['Image'].values, \n",
    "                                        test_size=0.2, \n",
    "                                        stratify=train_df['Class'].map(lambda x: str(sorted(list(x)))), # sorting present classes in lexicographical order, just to be sure\n",
    "                                        random_state=2019)"
   ]
  },
  {
   "cell_type": "markdown",
   "metadata": {},
   "source": [
    "## Generator class"
   ]
  },
  {
   "cell_type": "code",
   "execution_count": 6,
   "metadata": {
    "ExecuteTime": {
     "end_time": "2019-11-16T15:18:33.380430Z",
     "start_time": "2019-11-16T15:18:33.361057Z"
    }
   },
   "outputs": [],
   "source": [
    "class DataGenenerator(Sequence):\n",
    "    def __init__(self, images_list=None, folder_imgs=train_imgs_folder, \n",
    "                 batch_size=32, shuffle=True, augmentation=None,\n",
    "                 resized_height=260, resized_width=260, num_channels=3):\n",
    "        self.batch_size = batch_size\n",
    "        self.shuffle = shuffle\n",
    "        self.augmentation = augmentation\n",
    "        if images_list is None:\n",
    "            self.images_list = os.listdir(folder_imgs)\n",
    "        else:\n",
    "            self.images_list = deepcopy(images_list)\n",
    "        self.folder_imgs = folder_imgs\n",
    "        self.len = len(self.images_list) // self.batch_size\n",
    "        self.resized_height = resized_height\n",
    "        self.resized_width = resized_width\n",
    "        self.num_channels = num_channels\n",
    "        self.num_classes = 4\n",
    "        self.is_test = not 'train' in folder_imgs\n",
    "        if not shuffle and not self.is_test:\n",
    "            self.labels = [img_2_ohe_vector[img] for img in self.images_list[:self.len*self.batch_size]]\n",
    "\n",
    "    def __len__(self):\n",
    "        return self.len\n",
    "    \n",
    "    def on_epoch_start(self):\n",
    "        if self.shuffle:\n",
    "            random.shuffle(self.images_list)\n",
    "\n",
    "    def __getitem__(self, idx):\n",
    "        current_batch = self.images_list[idx * self.batch_size: (idx + 1) * self.batch_size]\n",
    "        X = np.empty((self.batch_size, self.resized_height, self.resized_width, self.num_channels))\n",
    "        y = np.empty((self.batch_size, self.num_classes))\n",
    "\n",
    "        for i, image_name in enumerate(current_batch):\n",
    "            path = os.path.join(self.folder_imgs, image_name)\n",
    "            img = cv2.resize(cv2.imread(path), (self.resized_height, self.resized_width)).astype(np.float32)\n",
    "            if not self.augmentation is None:\n",
    "                augmented = self.augmentation(image=img)\n",
    "                img = augmented['image']\n",
    "            X[i, :, :, :] = img/255.0\n",
    "            if not self.is_test:\n",
    "                y[i, :] = img_2_ohe_vector[image_name]\n",
    "        return X, y\n",
    "\n",
    "    def get_labels(self):\n",
    "        if self.shuffle:\n",
    "            images_current = self.images_list[:self.len*self.batch_size]\n",
    "            labels = [img_2_ohe_vector[img] for img in images_current]\n",
    "        else:\n",
    "            labels = self.labels\n",
    "        return np.array(labels)"
   ]
  },
  {
   "cell_type": "code",
   "execution_count": 7,
   "metadata": {
    "ExecuteTime": {
     "end_time": "2019-11-16T15:18:35.810955Z",
     "start_time": "2019-11-16T15:18:35.806775Z"
    }
   },
   "outputs": [],
   "source": [
    "albumentations_train = Compose([\n",
    "    VerticalFlip(), HorizontalFlip(), Rotate(limit=20), GridDistortion()\n",
    "], p=1)"
   ]
  },
  {
   "cell_type": "markdown",
   "metadata": {},
   "source": [
    "Generator instances"
   ]
  },
  {
   "cell_type": "code",
   "execution_count": 8,
   "metadata": {
    "ExecuteTime": {
     "end_time": "2019-11-16T15:18:37.175360Z",
     "start_time": "2019-11-16T15:18:36.934649Z"
    }
   },
   "outputs": [
    {
     "ename": "NameError",
     "evalue": "name 'img_2_ohe_vector' is not defined",
     "output_type": "error",
     "traceback": [
      "\u001b[0;31m---------------------------------------------------------------------------\u001b[0m",
      "\u001b[0;31mNameError\u001b[0m                                 Traceback (most recent call last)",
      "\u001b[0;32m<ipython-input-8-aa6369792a56>\u001b[0m in \u001b[0;36m<module>\u001b[0;34m\u001b[0m\n\u001b[1;32m      1\u001b[0m \u001b[0mdata_generator_train\u001b[0m \u001b[0;34m=\u001b[0m \u001b[0mDataGenenerator\u001b[0m\u001b[0;34m(\u001b[0m\u001b[0mtrain_imgs\u001b[0m\u001b[0;34m,\u001b[0m \u001b[0maugmentation\u001b[0m\u001b[0;34m=\u001b[0m\u001b[0malbumentations_train\u001b[0m\u001b[0;34m)\u001b[0m\u001b[0;34m\u001b[0m\u001b[0;34m\u001b[0m\u001b[0m\n\u001b[0;32m----> 2\u001b[0;31m \u001b[0mdata_generator_train_eval\u001b[0m \u001b[0;34m=\u001b[0m \u001b[0mDataGenenerator\u001b[0m\u001b[0;34m(\u001b[0m\u001b[0mtrain_imgs\u001b[0m\u001b[0;34m,\u001b[0m \u001b[0mshuffle\u001b[0m\u001b[0;34m=\u001b[0m\u001b[0;32mFalse\u001b[0m\u001b[0;34m)\u001b[0m\u001b[0;34m\u001b[0m\u001b[0;34m\u001b[0m\u001b[0m\n\u001b[0m\u001b[1;32m      3\u001b[0m \u001b[0mdata_generator_val\u001b[0m \u001b[0;34m=\u001b[0m \u001b[0mDataGenenerator\u001b[0m\u001b[0;34m(\u001b[0m\u001b[0mval_imgs\u001b[0m\u001b[0;34m,\u001b[0m \u001b[0mshuffle\u001b[0m\u001b[0;34m=\u001b[0m\u001b[0;32mFalse\u001b[0m\u001b[0;34m)\u001b[0m\u001b[0;34m\u001b[0m\u001b[0;34m\u001b[0m\u001b[0m\n",
      "\u001b[0;32m<ipython-input-6-d31628ee795c>\u001b[0m in \u001b[0;36m__init__\u001b[0;34m(self, images_list, folder_imgs, batch_size, shuffle, augmentation, resized_height, resized_width, num_channels)\u001b[0m\n\u001b[1;32m     18\u001b[0m         \u001b[0mself\u001b[0m\u001b[0;34m.\u001b[0m\u001b[0mis_test\u001b[0m \u001b[0;34m=\u001b[0m \u001b[0;32mnot\u001b[0m \u001b[0;34m'train'\u001b[0m \u001b[0;32min\u001b[0m \u001b[0mfolder_imgs\u001b[0m\u001b[0;34m\u001b[0m\u001b[0;34m\u001b[0m\u001b[0m\n\u001b[1;32m     19\u001b[0m         \u001b[0;32mif\u001b[0m \u001b[0;32mnot\u001b[0m \u001b[0mshuffle\u001b[0m \u001b[0;32mand\u001b[0m \u001b[0;32mnot\u001b[0m \u001b[0mself\u001b[0m\u001b[0;34m.\u001b[0m\u001b[0mis_test\u001b[0m\u001b[0;34m:\u001b[0m\u001b[0;34m\u001b[0m\u001b[0;34m\u001b[0m\u001b[0m\n\u001b[0;32m---> 20\u001b[0;31m             \u001b[0mself\u001b[0m\u001b[0;34m.\u001b[0m\u001b[0mlabels\u001b[0m \u001b[0;34m=\u001b[0m \u001b[0;34m[\u001b[0m\u001b[0mimg_2_ohe_vector\u001b[0m\u001b[0;34m[\u001b[0m\u001b[0mimg\u001b[0m\u001b[0;34m]\u001b[0m \u001b[0;32mfor\u001b[0m \u001b[0mimg\u001b[0m \u001b[0;32min\u001b[0m \u001b[0mself\u001b[0m\u001b[0;34m.\u001b[0m\u001b[0mimages_list\u001b[0m\u001b[0;34m[\u001b[0m\u001b[0;34m:\u001b[0m\u001b[0mself\u001b[0m\u001b[0;34m.\u001b[0m\u001b[0mlen\u001b[0m\u001b[0;34m*\u001b[0m\u001b[0mself\u001b[0m\u001b[0;34m.\u001b[0m\u001b[0mbatch_size\u001b[0m\u001b[0;34m]\u001b[0m\u001b[0;34m]\u001b[0m\u001b[0;34m\u001b[0m\u001b[0;34m\u001b[0m\u001b[0m\n\u001b[0m\u001b[1;32m     21\u001b[0m \u001b[0;34m\u001b[0m\u001b[0m\n\u001b[1;32m     22\u001b[0m     \u001b[0;32mdef\u001b[0m \u001b[0m__len__\u001b[0m\u001b[0;34m(\u001b[0m\u001b[0mself\u001b[0m\u001b[0;34m)\u001b[0m\u001b[0;34m:\u001b[0m\u001b[0;34m\u001b[0m\u001b[0;34m\u001b[0m\u001b[0m\n",
      "\u001b[0;32m<ipython-input-6-d31628ee795c>\u001b[0m in \u001b[0;36m<listcomp>\u001b[0;34m(.0)\u001b[0m\n\u001b[1;32m     18\u001b[0m         \u001b[0mself\u001b[0m\u001b[0;34m.\u001b[0m\u001b[0mis_test\u001b[0m \u001b[0;34m=\u001b[0m \u001b[0;32mnot\u001b[0m \u001b[0;34m'train'\u001b[0m \u001b[0;32min\u001b[0m \u001b[0mfolder_imgs\u001b[0m\u001b[0;34m\u001b[0m\u001b[0;34m\u001b[0m\u001b[0m\n\u001b[1;32m     19\u001b[0m         \u001b[0;32mif\u001b[0m \u001b[0;32mnot\u001b[0m \u001b[0mshuffle\u001b[0m \u001b[0;32mand\u001b[0m \u001b[0;32mnot\u001b[0m \u001b[0mself\u001b[0m\u001b[0;34m.\u001b[0m\u001b[0mis_test\u001b[0m\u001b[0;34m:\u001b[0m\u001b[0;34m\u001b[0m\u001b[0;34m\u001b[0m\u001b[0m\n\u001b[0;32m---> 20\u001b[0;31m             \u001b[0mself\u001b[0m\u001b[0;34m.\u001b[0m\u001b[0mlabels\u001b[0m \u001b[0;34m=\u001b[0m \u001b[0;34m[\u001b[0m\u001b[0mimg_2_ohe_vector\u001b[0m\u001b[0;34m[\u001b[0m\u001b[0mimg\u001b[0m\u001b[0;34m]\u001b[0m \u001b[0;32mfor\u001b[0m \u001b[0mimg\u001b[0m \u001b[0;32min\u001b[0m \u001b[0mself\u001b[0m\u001b[0;34m.\u001b[0m\u001b[0mimages_list\u001b[0m\u001b[0;34m[\u001b[0m\u001b[0;34m:\u001b[0m\u001b[0mself\u001b[0m\u001b[0;34m.\u001b[0m\u001b[0mlen\u001b[0m\u001b[0;34m*\u001b[0m\u001b[0mself\u001b[0m\u001b[0;34m.\u001b[0m\u001b[0mbatch_size\u001b[0m\u001b[0;34m]\u001b[0m\u001b[0;34m]\u001b[0m\u001b[0;34m\u001b[0m\u001b[0;34m\u001b[0m\u001b[0m\n\u001b[0m\u001b[1;32m     21\u001b[0m \u001b[0;34m\u001b[0m\u001b[0m\n\u001b[1;32m     22\u001b[0m     \u001b[0;32mdef\u001b[0m \u001b[0m__len__\u001b[0m\u001b[0;34m(\u001b[0m\u001b[0mself\u001b[0m\u001b[0;34m)\u001b[0m\u001b[0;34m:\u001b[0m\u001b[0;34m\u001b[0m\u001b[0;34m\u001b[0m\u001b[0m\n",
      "\u001b[0;31mNameError\u001b[0m: name 'img_2_ohe_vector' is not defined"
     ]
    }
   ],
   "source": [
    "data_generator_train = DataGenenerator(train_imgs, augmentation=albumentations_train)\n",
    "data_generator_train_eval = DataGenenerator(train_imgs, shuffle=False)\n",
    "data_generator_val = DataGenenerator(val_imgs, shuffle=False)"
   ]
  },
  {
   "cell_type": "markdown",
   "metadata": {},
   "source": [
    "# PR-AUC-based Callback"
   ]
  },
  {
   "cell_type": "markdown",
   "metadata": {},
   "source": [
    "The callback would be used:\n",
    "1. to estimate AUC under precision recall curve for each class,\n",
    "2. to early stop after 5 epochs of no improvement in mean PR AUC,\n",
    "3. save a model with the best PR AUC in validation,\n",
    "4. to reduce learning rate on PR AUC plateau."
   ]
  },
  {
   "cell_type": "code",
   "execution_count": 16,
   "metadata": {
    "ExecuteTime": {
     "end_time": "2019-11-12T18:40:19.769985Z",
     "start_time": "2019-11-12T18:40:19.750104Z"
    }
   },
   "outputs": [],
   "source": [
    "class PrAucCallback(Callback):\n",
    "    def __init__(self, data_generator, num_workers=num_cores, \n",
    "                 early_stopping_patience=5, \n",
    "                 plateau_patience=3, reduction_rate=0.5,\n",
    "                 stage='train', checkpoints_path='checkpoints/'):\n",
    "        super(Callback, self).__init__()\n",
    "        self.data_generator = data_generator\n",
    "        self.num_workers = num_workers\n",
    "        self.class_names = ['Fish', 'Flower', 'Sugar', 'Gravel']\n",
    "        self.history = [[] for _ in range(len(self.class_names) + 1)] # to store per each class and also mean PR AUC\n",
    "        self.early_stopping_patience = early_stopping_patience\n",
    "        self.plateau_patience = plateau_patience\n",
    "        self.reduction_rate = reduction_rate\n",
    "        self.stage = stage\n",
    "        self.best_pr_auc = -float('inf')\n",
    "        if not os.path.exists(checkpoints_path):\n",
    "            os.makedirs(checkpoints_path)\n",
    "        self.checkpoints_path = checkpoints_path\n",
    "        \n",
    "    def compute_pr_auc(self, y_true, y_pred):\n",
    "        pr_auc_mean = 0\n",
    "        print(f\"\\n{'#'*30}\\n\")\n",
    "        for class_i in range(len(self.class_names)):\n",
    "            precision, recall, _ = precision_recall_curve(y_true[:, class_i], y_pred[:, class_i])\n",
    "            pr_auc = auc(recall, precision)\n",
    "            pr_auc_mean += pr_auc/len(self.class_names)\n",
    "            print(f\"PR AUC {self.class_names[class_i]}, {self.stage}: {pr_auc:.3f}\\n\")\n",
    "            self.history[class_i].append(pr_auc)        \n",
    "        print(f\"\\n{'#'*20}\\n PR AUC mean, {self.stage}: {pr_auc_mean:.3f}\\n{'#'*20}\\n\")\n",
    "        self.history[-1].append(pr_auc_mean)\n",
    "        return pr_auc_mean\n",
    "              \n",
    "    def is_patience_lost(self, patience):\n",
    "        if len(self.history[-1]) > patience:\n",
    "            best_performance = max(self.history[-1][-(patience + 1):-1])\n",
    "            return best_performance == self.history[-1][-(patience + 1)] and best_performance >= self.history[-1][-1]    \n",
    "              \n",
    "    def early_stopping_check(self, pr_auc_mean):\n",
    "        if self.is_patience_lost(self.early_stopping_patience):\n",
    "            self.model.stop_training = True    \n",
    "              \n",
    "    def model_checkpoint(self, pr_auc_mean, epoch):\n",
    "        if pr_auc_mean > self.best_pr_auc:\n",
    "            # remove previous checkpoints to save space\n",
    "            for checkpoint in glob.glob(os.path.join(self.checkpoints_path, 'classifier_densenet169_epoch_*')):\n",
    "                os.remove(checkpoint)\n",
    "            self.best_pr_auc = pr_auc_mean\n",
    "            self.model.save(os.path.join(self.checkpoints_path, f'classifier_densenet169_epoch_{epoch}_val_pr_auc_{pr_auc_mean}.h5'))              \n",
    "            print(f\"\\n{'#'*20}\\nSaved new checkpoint\\n{'#'*20}\\n\")\n",
    "              \n",
    "    def reduce_lr_on_plateau(self):\n",
    "        if self.is_patience_lost(self.plateau_patience):\n",
    "            new_lr = float(keras.backend.get_value(self.model.optimizer.lr)) * self.reduction_rate\n",
    "            keras.backend.set_value(self.model.optimizer.lr, new_lr)\n",
    "            print(f\"\\n{'#'*20}\\nReduced learning rate to {new_lr}.\\n{'#'*20}\\n\")\n",
    "        \n",
    "    def on_epoch_end(self, epoch, logs={}):\n",
    "        y_pred = self.model.predict_generator(self.data_generator, workers=self.num_workers)\n",
    "        y_true = self.data_generator.get_labels()\n",
    "        # estimate AUC under precision recall curve for each class\n",
    "        pr_auc_mean = self.compute_pr_auc(y_true, y_pred)\n",
    "              \n",
    "        if self.stage == 'val':\n",
    "            # early stop after early_stopping_patience=4 epochs of no improvement in mean PR AUC\n",
    "            self.early_stopping_check(pr_auc_mean)\n",
    "\n",
    "            # save a model with the best PR AUC in validation\n",
    "            self.model_checkpoint(pr_auc_mean, epoch)\n",
    "\n",
    "            # reduce learning rate on PR AUC plateau\n",
    "            self.reduce_lr_on_plateau()            \n",
    "        \n",
    "    def get_pr_auc_history(self):\n",
    "        return self.history"
   ]
  },
  {
   "cell_type": "markdown",
   "metadata": {},
   "source": [
    "Callback instances"
   ]
  },
  {
   "cell_type": "code",
   "execution_count": 9,
   "metadata": {
    "ExecuteTime": {
     "end_time": "2019-11-16T15:18:46.057156Z",
     "start_time": "2019-11-16T15:18:46.033120Z"
    }
   },
   "outputs": [
    {
     "ename": "NameError",
     "evalue": "name 'PrAucCallback' is not defined",
     "output_type": "error",
     "traceback": [
      "\u001b[0;31m---------------------------------------------------------------------------\u001b[0m",
      "\u001b[0;31mNameError\u001b[0m                                 Traceback (most recent call last)",
      "\u001b[0;32m<ipython-input-9-5597f53d23cb>\u001b[0m in \u001b[0;36m<module>\u001b[0;34m\u001b[0m\n\u001b[0;32m----> 1\u001b[0;31m \u001b[0mtrain_metric_callback\u001b[0m \u001b[0;34m=\u001b[0m \u001b[0mPrAucCallback\u001b[0m\u001b[0;34m(\u001b[0m\u001b[0mdata_generator_train_eval\u001b[0m\u001b[0;34m)\u001b[0m\u001b[0;34m\u001b[0m\u001b[0;34m\u001b[0m\u001b[0m\n\u001b[0m\u001b[1;32m      2\u001b[0m \u001b[0mval_callback\u001b[0m \u001b[0;34m=\u001b[0m \u001b[0mPrAucCallback\u001b[0m\u001b[0;34m(\u001b[0m\u001b[0mdata_generator_val\u001b[0m\u001b[0;34m,\u001b[0m \u001b[0mstage\u001b[0m\u001b[0;34m=\u001b[0m\u001b[0;34m'val'\u001b[0m\u001b[0;34m)\u001b[0m\u001b[0;34m\u001b[0m\u001b[0;34m\u001b[0m\u001b[0m\n",
      "\u001b[0;31mNameError\u001b[0m: name 'PrAucCallback' is not defined"
     ]
    }
   ],
   "source": [
    "train_metric_callback = PrAucCallback(data_generator_train_eval)\n",
    "val_callback = PrAucCallback(data_generator_val, stage='val')"
   ]
  },
  {
   "cell_type": "markdown",
   "metadata": {},
   "source": [
    "# Classifier"
   ]
  },
  {
   "cell_type": "markdown",
   "metadata": {},
   "source": [
    "## Defining a model"
   ]
  },
  {
   "cell_type": "code",
   "execution_count": 10,
   "metadata": {
    "ExecuteTime": {
     "end_time": "2019-11-16T15:18:46.972521Z",
     "start_time": "2019-11-16T15:18:46.959900Z"
    }
   },
   "outputs": [],
   "source": [
    "from keras.losses import binary_crossentropy\n",
    "def dice_coef(y_true, y_pred, smooth=1):\n",
    "    y_true_f = K.flatten(y_true)\n",
    "    y_pred_f = K.flatten(y_pred)\n",
    "    intersection = K.sum(y_true_f * y_pred_f)\n",
    "    return (2. * intersection + smooth) / (K.sum(y_true_f) + K.sum(y_pred_f) + smooth)\n",
    "\n",
    "def dice_loss(y_true, y_pred):\n",
    "    smooth = 1.\n",
    "    y_true_f = K.flatten(y_true)\n",
    "    y_pred_f = K.flatten(y_pred)\n",
    "    intersection = y_true_f * y_pred_f\n",
    "    score = (2. * K.sum(intersection) + smooth) / (K.sum(y_true_f) + K.sum(y_pred_f) + smooth)\n",
    "    return 1. - score\n",
    "\n",
    "def bce_dice_loss(y_true, y_pred):\n",
    "    return binary_crossentropy(y_true, y_pred) + dice_loss(y_true, y_pred)"
   ]
  },
  {
   "cell_type": "code",
   "execution_count": 22,
   "metadata": {
    "ExecuteTime": {
     "end_time": "2019-11-09T06:29:19.569056Z",
     "start_time": "2019-11-09T06:29:16.302065Z"
    }
   },
   "outputs": [
    {
     "name": "stdout",
     "output_type": "stream",
     "text": [
      "Collecting git+https://github.com/qubvel/efficientnet\n",
      "  Cloning https://github.com/qubvel/efficientnet to /tmp/pip-req-build-9dw_xs7j\n",
      "  Running command git clone -q https://github.com/qubvel/efficientnet /tmp/pip-req-build-9dw_xs7j\n",
      "Requirement already satisfied, skipping upgrade: keras_applications<=1.0.8,>=1.0.7 in /home/dex/anaconda3/envs/keras_env/lib/python3.7/site-packages (from efficientnet==1.0.0) (1.0.8)\n",
      "Requirement already satisfied, skipping upgrade: scikit-image in /home/dex/anaconda3/envs/keras_env/lib/python3.7/site-packages (from efficientnet==1.0.0) (0.15.0)\n",
      "Requirement already satisfied, skipping upgrade: h5py in /home/dex/anaconda3/envs/keras_env/lib/python3.7/site-packages (from keras_applications<=1.0.8,>=1.0.7->efficientnet==1.0.0) (2.9.0)\n",
      "Requirement already satisfied, skipping upgrade: numpy>=1.9.1 in /home/dex/anaconda3/envs/keras_env/lib/python3.7/site-packages (from keras_applications<=1.0.8,>=1.0.7->efficientnet==1.0.0) (1.16.4)\n",
      "Requirement already satisfied, skipping upgrade: PyWavelets>=0.4.0 in /home/dex/anaconda3/envs/keras_env/lib/python3.7/site-packages (from scikit-image->efficientnet==1.0.0) (1.0.3)\n",
      "Requirement already satisfied, skipping upgrade: scipy>=0.17.0 in /home/dex/anaconda3/envs/keras_env/lib/python3.7/site-packages (from scikit-image->efficientnet==1.0.0) (1.3.0)\n",
      "Requirement already satisfied, skipping upgrade: pillow>=4.3.0 in /home/dex/.local/lib/python3.7/site-packages (from scikit-image->efficientnet==1.0.0) (6.1.0)\n",
      "Requirement already satisfied, skipping upgrade: imageio>=2.0.1 in /home/dex/anaconda3/envs/keras_env/lib/python3.7/site-packages (from scikit-image->efficientnet==1.0.0) (2.5.0)\n",
      "Requirement already satisfied, skipping upgrade: networkx>=2.0 in /home/dex/anaconda3/envs/keras_env/lib/python3.7/site-packages (from scikit-image->efficientnet==1.0.0) (2.3)\n",
      "Requirement already satisfied, skipping upgrade: matplotlib!=3.0.0,>=2.0.0 in /home/dex/anaconda3/envs/keras_env/lib/python3.7/site-packages (from scikit-image->efficientnet==1.0.0) (3.1.0)\n",
      "Requirement already satisfied, skipping upgrade: six in /home/dex/anaconda3/envs/keras_env/lib/python3.7/site-packages (from h5py->keras_applications<=1.0.8,>=1.0.7->efficientnet==1.0.0) (1.12.0)\n",
      "Requirement already satisfied, skipping upgrade: decorator>=4.3.0 in /home/dex/anaconda3/envs/keras_env/lib/python3.7/site-packages (from networkx>=2.0->scikit-image->efficientnet==1.0.0) (4.4.0)\n",
      "Requirement already satisfied, skipping upgrade: cycler>=0.10 in /home/dex/anaconda3/envs/keras_env/lib/python3.7/site-packages (from matplotlib!=3.0.0,>=2.0.0->scikit-image->efficientnet==1.0.0) (0.10.0)\n",
      "Requirement already satisfied, skipping upgrade: kiwisolver>=1.0.1 in /home/dex/anaconda3/envs/keras_env/lib/python3.7/site-packages (from matplotlib!=3.0.0,>=2.0.0->scikit-image->efficientnet==1.0.0) (1.1.0)\n",
      "Requirement already satisfied, skipping upgrade: pyparsing!=2.0.4,!=2.1.2,!=2.1.6,>=2.0.1 in /home/dex/anaconda3/envs/keras_env/lib/python3.7/site-packages (from matplotlib!=3.0.0,>=2.0.0->scikit-image->efficientnet==1.0.0) (2.4.0)\n",
      "Requirement already satisfied, skipping upgrade: python-dateutil>=2.1 in /home/dex/anaconda3/envs/keras_env/lib/python3.7/site-packages (from matplotlib!=3.0.0,>=2.0.0->scikit-image->efficientnet==1.0.0) (2.8.0)\n",
      "Requirement already satisfied, skipping upgrade: setuptools in /home/dex/anaconda3/envs/keras_env/lib/python3.7/site-packages (from kiwisolver>=1.0.1->matplotlib!=3.0.0,>=2.0.0->scikit-image->efficientnet==1.0.0) (41.0.1)\n",
      "Building wheels for collected packages: efficientnet\n",
      "  Building wheel for efficientnet (setup.py) ... \u001b[?25ldone\n",
      "\u001b[?25h  Stored in directory: /tmp/pip-ephem-wheel-cache-ltry0q8d/wheels/64/60/2e/30ebaa76ed1626e86bfb0cc0579b737fdb7d9ff8cb9522663a\n",
      "Successfully built efficientnet\n",
      "Installing collected packages: efficientnet\n",
      "  Found existing installation: efficientnet 1.0.0\n",
      "    Uninstalling efficientnet-1.0.0:\n",
      "      Successfully uninstalled efficientnet-1.0.0\n",
      "Successfully installed efficientnet-1.0.0\n"
     ]
    }
   ],
   "source": [
    "!pip install -U git+https://github.com/qubvel/efficientnet"
   ]
  },
  {
   "cell_type": "code",
   "execution_count": 11,
   "metadata": {
    "ExecuteTime": {
     "end_time": "2019-11-16T15:19:03.209192Z",
     "start_time": "2019-11-16T15:18:51.878324Z"
    },
    "_kg_hide-output": true
   },
   "outputs": [
    {
     "name": "stderr",
     "output_type": "stream",
     "text": [
      "WARNING: Logging before flag parsing goes to stderr.\n",
      "W1116 18:18:51.900685 140150228264768 deprecation_wrapper.py:119] From /home/dex/anaconda3/envs/keras_env/lib/python3.7/site-packages/keras/backend/tensorflow_backend.py:95: The name tf.reset_default_graph is deprecated. Please use tf.compat.v1.reset_default_graph instead.\n",
      "\n",
      "W1116 18:18:51.901755 140150228264768 deprecation_wrapper.py:119] From /home/dex/anaconda3/envs/keras_env/lib/python3.7/site-packages/keras/backend/tensorflow_backend.py:98: The name tf.placeholder_with_default is deprecated. Please use tf.compat.v1.placeholder_with_default instead.\n",
      "\n",
      "W1116 18:18:51.909141 140150228264768 deprecation_wrapper.py:119] From /home/dex/anaconda3/envs/keras_env/lib/python3.7/site-packages/keras/backend/tensorflow_backend.py:102: The name tf.get_default_graph is deprecated. Please use tf.compat.v1.get_default_graph instead.\n",
      "\n",
      "W1116 18:18:51.910609 140150228264768 deprecation_wrapper.py:119] From /home/dex/anaconda3/envs/keras_env/lib/python3.7/site-packages/keras/backend/tensorflow_backend.py:517: The name tf.placeholder is deprecated. Please use tf.compat.v1.placeholder instead.\n",
      "\n",
      "W1116 18:18:51.913436 140150228264768 deprecation_wrapper.py:119] From /home/dex/anaconda3/envs/keras_env/lib/python3.7/site-packages/keras/backend/tensorflow_backend.py:4185: The name tf.truncated_normal is deprecated. Please use tf.random.truncated_normal instead.\n",
      "\n",
      "W1116 18:18:54.584877 140150228264768 deprecation_wrapper.py:119] From /home/dex/anaconda3/envs/keras_env/lib/python3.7/site-packages/keras/backend/tensorflow_backend.py:1834: The name tf.nn.fused_batch_norm is deprecated. Please use tf.compat.v1.nn.fused_batch_norm instead.\n",
      "\n",
      "W1116 18:18:54.928814 140150228264768 deprecation.py:506] From /home/dex/anaconda3/envs/keras_env/lib/python3.7/site-packages/keras/backend/tensorflow_backend.py:3445: calling dropout (from tensorflow.python.ops.nn_ops) with keep_prob is deprecated and will be removed in a future version.\n",
      "Instructions for updating:\n",
      "Please use `rate` instead of `keep_prob`. Rate should be set to `rate = 1 - keep_prob`.\n"
     ]
    }
   ],
   "source": [
    "import efficientnet.keras as efn \n",
    "def get_model():\n",
    "    K.clear_session()\n",
    "    base_model =  efn.EfficientNetB2(weights='imagenet', include_top=False, pooling='avg', input_shape=(260, 260, 3))\n",
    "    x = base_model.output\n",
    "    y_pred = Dense(4, activation='sigmoid')(x)\n",
    "    return Model(inputs=base_model.input, outputs=y_pred)\n",
    "\n",
    "model = get_model()"
   ]
  },
  {
   "cell_type": "code",
   "execution_count": 12,
   "metadata": {
    "ExecuteTime": {
     "end_time": "2019-11-16T15:19:03.252299Z",
     "start_time": "2019-11-16T15:19:03.234324Z"
    }
   },
   "outputs": [],
   "source": [
    "from keras_radam import RAdam"
   ]
  },
  {
   "cell_type": "markdown",
   "metadata": {},
   "source": [
    "## Initial tuning of the added fully-connected layer"
   ]
  },
  {
   "cell_type": "code",
   "execution_count": 21,
   "metadata": {
    "ExecuteTime": {
     "end_time": "2019-11-12T18:40:48.163090Z",
     "start_time": "2019-11-12T18:40:42.207968Z"
    }
   },
   "outputs": [
    {
     "name": "stderr",
     "output_type": "stream",
     "text": [
      "W1112 21:40:42.237008 139670237226816 deprecation_wrapper.py:119] From /home/dex/anaconda3/envs/keras_env/lib/python3.7/site-packages/keras/optimizers.py:790: The name tf.train.Optimizer is deprecated. Please use tf.compat.v1.train.Optimizer instead.\n",
      "\n",
      "W1112 21:40:42.315240 139670237226816 deprecation.py:323] From /home/dex/anaconda3/envs/keras_env/lib/python3.7/site-packages/tensorflow/python/ops/math_grad.py:1250: add_dispatch_support.<locals>.wrapper (from tensorflow.python.ops.array_ops) is deprecated and will be removed in a future version.\n",
      "Instructions for updating:\n",
      "Use tf.where in 2.0, which has the same broadcast rule as np.where\n"
     ]
    },
    {
     "name": "stdout",
     "output_type": "stream",
     "text": [
      "Epoch 1/20\n"
     ]
    },
    {
     "ename": "KeyboardInterrupt",
     "evalue": "",
     "output_type": "error",
     "traceback": [
      "\u001b[0;31m---------------------------------------------------------------------------\u001b[0m",
      "\u001b[0;31mKeyboardInterrupt\u001b[0m                         Traceback (most recent call last)",
      "\u001b[0;32m<ipython-input-21-62fe69b460be>\u001b[0m in \u001b[0;36m<module>\u001b[0;34m\u001b[0m\n\u001b[1;32m      8\u001b[0m                               \u001b[0mcallbacks\u001b[0m\u001b[0;34m=\u001b[0m\u001b[0;34m[\u001b[0m\u001b[0mtrain_metric_callback\u001b[0m\u001b[0;34m,\u001b[0m \u001b[0mval_callback\u001b[0m\u001b[0;34m]\u001b[0m\u001b[0;34m,\u001b[0m\u001b[0;34m\u001b[0m\u001b[0;34m\u001b[0m\u001b[0m\n\u001b[1;32m      9\u001b[0m                               \u001b[0mworkers\u001b[0m\u001b[0;34m=\u001b[0m\u001b[0mnum_cores\u001b[0m\u001b[0;34m,\u001b[0m\u001b[0;34m\u001b[0m\u001b[0;34m\u001b[0m\u001b[0m\n\u001b[0;32m---> 10\u001b[0;31m                               \u001b[0mverbose\u001b[0m\u001b[0;34m=\u001b[0m\u001b[0;36m1\u001b[0m\u001b[0;34m\u001b[0m\u001b[0;34m\u001b[0m\u001b[0m\n\u001b[0m\u001b[1;32m     11\u001b[0m                              )\n",
      "\u001b[0;32m~/anaconda3/envs/keras_env/lib/python3.7/site-packages/keras/legacy/interfaces.py\u001b[0m in \u001b[0;36mwrapper\u001b[0;34m(*args, **kwargs)\u001b[0m\n\u001b[1;32m     89\u001b[0m                 warnings.warn('Update your `' + object_name + '` call to the ' +\n\u001b[1;32m     90\u001b[0m                               'Keras 2 API: ' + signature, stacklevel=2)\n\u001b[0;32m---> 91\u001b[0;31m             \u001b[0;32mreturn\u001b[0m \u001b[0mfunc\u001b[0m\u001b[0;34m(\u001b[0m\u001b[0;34m*\u001b[0m\u001b[0margs\u001b[0m\u001b[0;34m,\u001b[0m \u001b[0;34m**\u001b[0m\u001b[0mkwargs\u001b[0m\u001b[0;34m)\u001b[0m\u001b[0;34m\u001b[0m\u001b[0;34m\u001b[0m\u001b[0m\n\u001b[0m\u001b[1;32m     92\u001b[0m         \u001b[0mwrapper\u001b[0m\u001b[0;34m.\u001b[0m\u001b[0m_original_function\u001b[0m \u001b[0;34m=\u001b[0m \u001b[0mfunc\u001b[0m\u001b[0;34m\u001b[0m\u001b[0;34m\u001b[0m\u001b[0m\n\u001b[1;32m     93\u001b[0m         \u001b[0;32mreturn\u001b[0m \u001b[0mwrapper\u001b[0m\u001b[0;34m\u001b[0m\u001b[0;34m\u001b[0m\u001b[0m\n",
      "\u001b[0;32m~/anaconda3/envs/keras_env/lib/python3.7/site-packages/keras/engine/training.py\u001b[0m in \u001b[0;36mfit_generator\u001b[0;34m(self, generator, steps_per_epoch, epochs, verbose, callbacks, validation_data, validation_steps, class_weight, max_queue_size, workers, use_multiprocessing, shuffle, initial_epoch)\u001b[0m\n\u001b[1;32m   1416\u001b[0m             \u001b[0muse_multiprocessing\u001b[0m\u001b[0;34m=\u001b[0m\u001b[0muse_multiprocessing\u001b[0m\u001b[0;34m,\u001b[0m\u001b[0;34m\u001b[0m\u001b[0;34m\u001b[0m\u001b[0m\n\u001b[1;32m   1417\u001b[0m             \u001b[0mshuffle\u001b[0m\u001b[0;34m=\u001b[0m\u001b[0mshuffle\u001b[0m\u001b[0;34m,\u001b[0m\u001b[0;34m\u001b[0m\u001b[0;34m\u001b[0m\u001b[0m\n\u001b[0;32m-> 1418\u001b[0;31m             initial_epoch=initial_epoch)\n\u001b[0m\u001b[1;32m   1419\u001b[0m \u001b[0;34m\u001b[0m\u001b[0m\n\u001b[1;32m   1420\u001b[0m     \u001b[0;34m@\u001b[0m\u001b[0minterfaces\u001b[0m\u001b[0;34m.\u001b[0m\u001b[0mlegacy_generator_methods_support\u001b[0m\u001b[0;34m\u001b[0m\u001b[0;34m\u001b[0m\u001b[0m\n",
      "\u001b[0;32m~/anaconda3/envs/keras_env/lib/python3.7/site-packages/keras/engine/training_generator.py\u001b[0m in \u001b[0;36mfit_generator\u001b[0;34m(model, generator, steps_per_epoch, epochs, verbose, callbacks, validation_data, validation_steps, class_weight, max_queue_size, workers, use_multiprocessing, shuffle, initial_epoch)\u001b[0m\n\u001b[1;32m    215\u001b[0m                 outs = model.train_on_batch(x, y,\n\u001b[1;32m    216\u001b[0m                                             \u001b[0msample_weight\u001b[0m\u001b[0;34m=\u001b[0m\u001b[0msample_weight\u001b[0m\u001b[0;34m,\u001b[0m\u001b[0;34m\u001b[0m\u001b[0;34m\u001b[0m\u001b[0m\n\u001b[0;32m--> 217\u001b[0;31m                                             class_weight=class_weight)\n\u001b[0m\u001b[1;32m    218\u001b[0m \u001b[0;34m\u001b[0m\u001b[0m\n\u001b[1;32m    219\u001b[0m                 \u001b[0mouts\u001b[0m \u001b[0;34m=\u001b[0m \u001b[0mto_list\u001b[0m\u001b[0;34m(\u001b[0m\u001b[0mouts\u001b[0m\u001b[0;34m)\u001b[0m\u001b[0;34m\u001b[0m\u001b[0;34m\u001b[0m\u001b[0m\n",
      "\u001b[0;32m~/anaconda3/envs/keras_env/lib/python3.7/site-packages/keras/engine/training.py\u001b[0m in \u001b[0;36mtrain_on_batch\u001b[0;34m(self, x, y, sample_weight, class_weight)\u001b[0m\n\u001b[1;32m   1215\u001b[0m             \u001b[0mins\u001b[0m \u001b[0;34m=\u001b[0m \u001b[0mx\u001b[0m \u001b[0;34m+\u001b[0m \u001b[0my\u001b[0m \u001b[0;34m+\u001b[0m \u001b[0msample_weights\u001b[0m\u001b[0;34m\u001b[0m\u001b[0;34m\u001b[0m\u001b[0m\n\u001b[1;32m   1216\u001b[0m         \u001b[0mself\u001b[0m\u001b[0;34m.\u001b[0m\u001b[0m_make_train_function\u001b[0m\u001b[0;34m(\u001b[0m\u001b[0;34m)\u001b[0m\u001b[0;34m\u001b[0m\u001b[0;34m\u001b[0m\u001b[0m\n\u001b[0;32m-> 1217\u001b[0;31m         \u001b[0moutputs\u001b[0m \u001b[0;34m=\u001b[0m \u001b[0mself\u001b[0m\u001b[0;34m.\u001b[0m\u001b[0mtrain_function\u001b[0m\u001b[0;34m(\u001b[0m\u001b[0mins\u001b[0m\u001b[0;34m)\u001b[0m\u001b[0;34m\u001b[0m\u001b[0;34m\u001b[0m\u001b[0m\n\u001b[0m\u001b[1;32m   1218\u001b[0m         \u001b[0;32mreturn\u001b[0m \u001b[0munpack_singleton\u001b[0m\u001b[0;34m(\u001b[0m\u001b[0moutputs\u001b[0m\u001b[0;34m)\u001b[0m\u001b[0;34m\u001b[0m\u001b[0;34m\u001b[0m\u001b[0m\n\u001b[1;32m   1219\u001b[0m \u001b[0;34m\u001b[0m\u001b[0m\n",
      "\u001b[0;32m~/anaconda3/envs/keras_env/lib/python3.7/site-packages/keras/backend/tensorflow_backend.py\u001b[0m in \u001b[0;36m__call__\u001b[0;34m(self, inputs)\u001b[0m\n\u001b[1;32m   2713\u001b[0m                 \u001b[0;32mreturn\u001b[0m \u001b[0mself\u001b[0m\u001b[0;34m.\u001b[0m\u001b[0m_legacy_call\u001b[0m\u001b[0;34m(\u001b[0m\u001b[0minputs\u001b[0m\u001b[0;34m)\u001b[0m\u001b[0;34m\u001b[0m\u001b[0;34m\u001b[0m\u001b[0m\n\u001b[1;32m   2714\u001b[0m \u001b[0;34m\u001b[0m\u001b[0m\n\u001b[0;32m-> 2715\u001b[0;31m             \u001b[0;32mreturn\u001b[0m \u001b[0mself\u001b[0m\u001b[0;34m.\u001b[0m\u001b[0m_call\u001b[0m\u001b[0;34m(\u001b[0m\u001b[0minputs\u001b[0m\u001b[0;34m)\u001b[0m\u001b[0;34m\u001b[0m\u001b[0;34m\u001b[0m\u001b[0m\n\u001b[0m\u001b[1;32m   2716\u001b[0m         \u001b[0;32melse\u001b[0m\u001b[0;34m:\u001b[0m\u001b[0;34m\u001b[0m\u001b[0;34m\u001b[0m\u001b[0m\n\u001b[1;32m   2717\u001b[0m             \u001b[0;32mif\u001b[0m \u001b[0mpy_any\u001b[0m\u001b[0;34m(\u001b[0m\u001b[0mis_tensor\u001b[0m\u001b[0;34m(\u001b[0m\u001b[0mx\u001b[0m\u001b[0;34m)\u001b[0m \u001b[0;32mfor\u001b[0m \u001b[0mx\u001b[0m \u001b[0;32min\u001b[0m \u001b[0minputs\u001b[0m\u001b[0;34m)\u001b[0m\u001b[0;34m:\u001b[0m\u001b[0;34m\u001b[0m\u001b[0;34m\u001b[0m\u001b[0m\n",
      "\u001b[0;32m~/anaconda3/envs/keras_env/lib/python3.7/site-packages/keras/backend/tensorflow_backend.py\u001b[0m in \u001b[0;36m_call\u001b[0;34m(self, inputs)\u001b[0m\n\u001b[1;32m   2669\u001b[0m                                 \u001b[0mfeed_symbols\u001b[0m\u001b[0;34m,\u001b[0m\u001b[0;34m\u001b[0m\u001b[0;34m\u001b[0m\u001b[0m\n\u001b[1;32m   2670\u001b[0m                                 \u001b[0msymbol_vals\u001b[0m\u001b[0;34m,\u001b[0m\u001b[0;34m\u001b[0m\u001b[0;34m\u001b[0m\u001b[0m\n\u001b[0;32m-> 2671\u001b[0;31m                                 session)\n\u001b[0m\u001b[1;32m   2672\u001b[0m         \u001b[0;32mif\u001b[0m \u001b[0mself\u001b[0m\u001b[0;34m.\u001b[0m\u001b[0mrun_metadata\u001b[0m\u001b[0;34m:\u001b[0m\u001b[0;34m\u001b[0m\u001b[0;34m\u001b[0m\u001b[0m\n\u001b[1;32m   2673\u001b[0m             \u001b[0mfetched\u001b[0m \u001b[0;34m=\u001b[0m \u001b[0mself\u001b[0m\u001b[0;34m.\u001b[0m\u001b[0m_callable_fn\u001b[0m\u001b[0;34m(\u001b[0m\u001b[0;34m*\u001b[0m\u001b[0marray_vals\u001b[0m\u001b[0;34m,\u001b[0m \u001b[0mrun_metadata\u001b[0m\u001b[0;34m=\u001b[0m\u001b[0mself\u001b[0m\u001b[0;34m.\u001b[0m\u001b[0mrun_metadata\u001b[0m\u001b[0;34m)\u001b[0m\u001b[0;34m\u001b[0m\u001b[0;34m\u001b[0m\u001b[0m\n",
      "\u001b[0;32m~/anaconda3/envs/keras_env/lib/python3.7/site-packages/keras/backend/tensorflow_backend.py\u001b[0m in \u001b[0;36m_make_callable\u001b[0;34m(self, feed_arrays, feed_symbols, symbol_vals, session)\u001b[0m\n\u001b[1;32m   2621\u001b[0m             \u001b[0mcallable_opts\u001b[0m\u001b[0;34m.\u001b[0m\u001b[0mrun_options\u001b[0m\u001b[0;34m.\u001b[0m\u001b[0mCopyFrom\u001b[0m\u001b[0;34m(\u001b[0m\u001b[0mself\u001b[0m\u001b[0;34m.\u001b[0m\u001b[0mrun_options\u001b[0m\u001b[0;34m)\u001b[0m\u001b[0;34m\u001b[0m\u001b[0;34m\u001b[0m\u001b[0m\n\u001b[1;32m   2622\u001b[0m         \u001b[0;31m# Create callable.\u001b[0m\u001b[0;34m\u001b[0m\u001b[0;34m\u001b[0m\u001b[0;34m\u001b[0m\u001b[0m\n\u001b[0;32m-> 2623\u001b[0;31m         \u001b[0mcallable_fn\u001b[0m \u001b[0;34m=\u001b[0m \u001b[0msession\u001b[0m\u001b[0;34m.\u001b[0m\u001b[0m_make_callable_from_options\u001b[0m\u001b[0;34m(\u001b[0m\u001b[0mcallable_opts\u001b[0m\u001b[0;34m)\u001b[0m\u001b[0;34m\u001b[0m\u001b[0;34m\u001b[0m\u001b[0m\n\u001b[0m\u001b[1;32m   2624\u001b[0m         \u001b[0;31m# Cache parameters corresponding to the generated callable, so that\u001b[0m\u001b[0;34m\u001b[0m\u001b[0;34m\u001b[0m\u001b[0;34m\u001b[0m\u001b[0m\n\u001b[1;32m   2625\u001b[0m         \u001b[0;31m# we can detect future mismatches and refresh the callable.\u001b[0m\u001b[0;34m\u001b[0m\u001b[0;34m\u001b[0m\u001b[0;34m\u001b[0m\u001b[0m\n",
      "\u001b[0;32m~/anaconda3/envs/keras_env/lib/python3.7/site-packages/tensorflow/python/client/session.py\u001b[0m in \u001b[0;36m_make_callable_from_options\u001b[0;34m(self, callable_options)\u001b[0m\n\u001b[1;32m   1487\u001b[0m     \"\"\"\n\u001b[1;32m   1488\u001b[0m     \u001b[0mself\u001b[0m\u001b[0;34m.\u001b[0m\u001b[0m_extend_graph\u001b[0m\u001b[0;34m(\u001b[0m\u001b[0;34m)\u001b[0m\u001b[0;34m\u001b[0m\u001b[0;34m\u001b[0m\u001b[0m\n\u001b[0;32m-> 1489\u001b[0;31m     \u001b[0;32mreturn\u001b[0m \u001b[0mBaseSession\u001b[0m\u001b[0;34m.\u001b[0m\u001b[0m_Callable\u001b[0m\u001b[0;34m(\u001b[0m\u001b[0mself\u001b[0m\u001b[0;34m,\u001b[0m \u001b[0mcallable_options\u001b[0m\u001b[0;34m)\u001b[0m\u001b[0;34m\u001b[0m\u001b[0;34m\u001b[0m\u001b[0m\n\u001b[0m\u001b[1;32m   1490\u001b[0m \u001b[0;34m\u001b[0m\u001b[0m\n\u001b[1;32m   1491\u001b[0m \u001b[0;34m\u001b[0m\u001b[0m\n",
      "\u001b[0;32m~/anaconda3/envs/keras_env/lib/python3.7/site-packages/tensorflow/python/client/session.py\u001b[0m in \u001b[0;36m__init__\u001b[0;34m(self, session, callable_options)\u001b[0m\n\u001b[1;32m   1444\u001b[0m       \u001b[0;32mtry\u001b[0m\u001b[0;34m:\u001b[0m\u001b[0;34m\u001b[0m\u001b[0;34m\u001b[0m\u001b[0m\n\u001b[1;32m   1445\u001b[0m         self._handle = tf_session.TF_SessionMakeCallable(\n\u001b[0;32m-> 1446\u001b[0;31m             session._session, options_ptr)\n\u001b[0m\u001b[1;32m   1447\u001b[0m       \u001b[0;32mfinally\u001b[0m\u001b[0;34m:\u001b[0m\u001b[0;34m\u001b[0m\u001b[0;34m\u001b[0m\u001b[0m\n\u001b[1;32m   1448\u001b[0m         \u001b[0mtf_session\u001b[0m\u001b[0;34m.\u001b[0m\u001b[0mTF_DeleteBuffer\u001b[0m\u001b[0;34m(\u001b[0m\u001b[0moptions_ptr\u001b[0m\u001b[0;34m)\u001b[0m\u001b[0;34m\u001b[0m\u001b[0;34m\u001b[0m\u001b[0m\n",
      "\u001b[0;31mKeyboardInterrupt\u001b[0m: "
     ]
    }
   ],
   "source": [
    "for base_layer in model.layers[:-3]:\n",
    "    base_layer.trainable = False\n",
    "    \n",
    "model.compile(optimizer=RAdam(warmup_proportion=0.1, min_lr=1e-5),  loss='categorical_crossentropy', metrics=['accuracy'])\n",
    "history_0 = model.fit_generator(generator=data_generator_train,\n",
    "                              validation_data=data_generator_val,\n",
    "                              epochs=20,\n",
    "                              callbacks=[train_metric_callback, val_callback],\n",
    "                              workers=num_cores,\n",
    "                              verbose=1\n",
    "                             )"
   ]
  },
  {
   "cell_type": "markdown",
   "metadata": {},
   "source": [
    "## Fine-tuning the whole model"
   ]
  },
  {
   "cell_type": "markdown",
   "metadata": {},
   "source": [
    "After unfreezing all the layers(except last 3) I set a less aggressive initial learning rate and train until early stopping (or 100 epochs max)."
   ]
  },
  {
   "cell_type": "code",
   "execution_count": 18,
   "metadata": {},
   "outputs": [
    {
     "name": "stdout",
     "output_type": "stream",
     "text": [
      "Epoch 2/20\n",
      "138/138 [==============================] - 231s 2s/step - loss: 2.7147 - accuracy: 0.4382 - val_loss: 3.0616 - val_accuracy: 0.4090\n",
      "\n",
      "##############################\n",
      "\n",
      "PR AUC Fish, train: 0.742\n",
      "\n",
      "PR AUC Flower, train: 0.865\n",
      "\n",
      "PR AUC Sugar, train: 0.840\n",
      "\n",
      "PR AUC Gravel, train: 0.782\n",
      "\n",
      "\n",
      "####################\n",
      " PR AUC mean, train: 0.807\n",
      "####################\n",
      "\n",
      "\n",
      "##############################\n",
      "\n",
      "PR AUC Fish, val: 0.701\n",
      "\n",
      "PR AUC Flower, val: 0.851\n",
      "\n",
      "PR AUC Sugar, val: 0.843\n",
      "\n",
      "PR AUC Gravel, val: 0.777\n",
      "\n",
      "\n",
      "####################\n",
      " PR AUC mean, val: 0.793\n",
      "####################\n",
      "\n",
      "\n",
      "####################\n",
      "Saved new checkpoint\n",
      "####################\n",
      "\n",
      "Epoch 3/20\n",
      "138/138 [==============================] - 193s 1s/step - loss: 2.6637 - accuracy: 0.4708 - val_loss: 2.9207 - val_accuracy: 0.4577\n",
      "\n",
      "##############################\n",
      "\n",
      "PR AUC Fish, train: 0.776\n",
      "\n",
      "PR AUC Flower, train: 0.876\n",
      "\n",
      "PR AUC Sugar, train: 0.876\n",
      "\n",
      "PR AUC Gravel, train: 0.800\n",
      "\n",
      "\n",
      "####################\n",
      " PR AUC mean, train: 0.832\n",
      "####################\n",
      "\n",
      "\n",
      "##############################\n",
      "\n",
      "PR AUC Fish, val: 0.736\n",
      "\n",
      "PR AUC Flower, val: 0.849\n",
      "\n",
      "PR AUC Sugar, val: 0.863\n",
      "\n",
      "PR AUC Gravel, val: 0.771\n",
      "\n",
      "\n",
      "####################\n",
      " PR AUC mean, val: 0.805\n",
      "####################\n",
      "\n",
      "\n",
      "####################\n",
      "Saved new checkpoint\n",
      "####################\n",
      "\n",
      "Epoch 4/20\n",
      "138/138 [==============================] - 195s 1s/step - loss: 2.6310 - accuracy: 0.4735 - val_loss: 2.8695 - val_accuracy: 0.5221\n",
      "\n",
      "##############################\n",
      "\n",
      "PR AUC Fish, train: 0.801\n",
      "\n",
      "PR AUC Flower, train: 0.887\n",
      "\n",
      "PR AUC Sugar, train: 0.886\n",
      "\n",
      "PR AUC Gravel, train: 0.825\n",
      "\n",
      "\n",
      "####################\n",
      " PR AUC mean, train: 0.849\n",
      "####################\n",
      "\n",
      "\n",
      "##############################\n",
      "\n",
      "PR AUC Fish, val: 0.743\n",
      "\n",
      "PR AUC Flower, val: 0.868\n",
      "\n",
      "PR AUC Sugar, val: 0.872\n",
      "\n",
      "PR AUC Gravel, val: 0.802\n",
      "\n",
      "\n",
      "####################\n",
      " PR AUC mean, val: 0.821\n",
      "####################\n",
      "\n",
      "\n",
      "####################\n",
      "Saved new checkpoint\n",
      "####################\n",
      "\n",
      "Epoch 5/20\n",
      "138/138 [==============================] - 194s 1s/step - loss: 2.6088 - accuracy: 0.4742 - val_loss: 3.0059 - val_accuracy: 0.4338\n",
      "\n",
      "##############################\n",
      "\n",
      "PR AUC Fish, train: 0.784\n",
      "\n",
      "PR AUC Flower, train: 0.874\n",
      "\n",
      "PR AUC Sugar, train: 0.892\n",
      "\n",
      "PR AUC Gravel, train: 0.818\n",
      "\n",
      "\n",
      "####################\n",
      " PR AUC mean, train: 0.842\n",
      "####################\n",
      "\n",
      "\n",
      "##############################\n",
      "\n",
      "PR AUC Fish, val: 0.710\n",
      "\n",
      "PR AUC Flower, val: 0.839\n",
      "\n",
      "PR AUC Sugar, val: 0.869\n",
      "\n",
      "PR AUC Gravel, val: 0.799\n",
      "\n",
      "\n",
      "####################\n",
      " PR AUC mean, val: 0.804\n",
      "####################\n",
      "\n",
      "Epoch 6/20\n",
      "138/138 [==============================] - 196s 1s/step - loss: 2.5976 - accuracy: 0.4712 - val_loss: 2.8583 - val_accuracy: 0.5046\n",
      "\n",
      "##############################\n",
      "\n",
      "PR AUC Fish, train: 0.816\n",
      "\n",
      "PR AUC Flower, train: 0.912\n",
      "\n",
      "PR AUC Sugar, train: 0.900\n",
      "\n",
      "PR AUC Gravel, train: 0.837\n",
      "\n",
      "\n",
      "####################\n",
      " PR AUC mean, train: 0.866\n",
      "####################\n",
      "\n",
      "\n",
      "##############################\n",
      "\n",
      "PR AUC Fish, val: 0.739\n",
      "\n",
      "PR AUC Flower, val: 0.874\n",
      "\n",
      "PR AUC Sugar, val: 0.903\n",
      "\n",
      "PR AUC Gravel, val: 0.798\n",
      "\n",
      "\n",
      "####################\n",
      " PR AUC mean, val: 0.828\n",
      "####################\n",
      "\n",
      "\n",
      "####################\n",
      "Saved new checkpoint\n",
      "####################\n",
      "\n",
      "Epoch 7/20\n",
      "138/138 [==============================] - 195s 1s/step - loss: 2.5805 - accuracy: 0.4871 - val_loss: 2.8421 - val_accuracy: 0.4403\n",
      "\n",
      "##############################\n",
      "\n",
      "PR AUC Fish, train: 0.804\n",
      "\n",
      "PR AUC Flower, train: 0.904\n",
      "\n",
      "PR AUC Sugar, train: 0.900\n",
      "\n",
      "PR AUC Gravel, train: 0.844\n",
      "\n",
      "\n",
      "####################\n",
      " PR AUC mean, train: 0.863\n",
      "####################\n",
      "\n",
      "\n",
      "##############################\n",
      "\n",
      "PR AUC Fish, val: 0.733\n",
      "\n",
      "PR AUC Flower, val: 0.868\n",
      "\n",
      "PR AUC Sugar, val: 0.885\n",
      "\n",
      "PR AUC Gravel, val: 0.799\n",
      "\n",
      "\n",
      "####################\n",
      " PR AUC mean, val: 0.821\n",
      "####################\n",
      "\n",
      "Epoch 8/20\n",
      "138/138 [==============================] - 198s 1s/step - loss: 2.5521 - accuracy: 0.4812 - val_loss: 2.9676 - val_accuracy: 0.3805\n",
      "\n",
      "##############################\n",
      "\n",
      "PR AUC Fish, train: 0.843\n",
      "\n",
      "PR AUC Flower, train: 0.912\n",
      "\n",
      "PR AUC Sugar, train: 0.900\n",
      "\n",
      "PR AUC Gravel, train: 0.840\n",
      "\n",
      "\n",
      "####################\n",
      " PR AUC mean, train: 0.874\n",
      "####################\n",
      "\n",
      "\n",
      "##############################\n",
      "\n",
      "PR AUC Fish, val: 0.758\n",
      "\n",
      "PR AUC Flower, val: 0.864\n",
      "\n",
      "PR AUC Sugar, val: 0.872\n",
      "\n",
      "PR AUC Gravel, val: 0.784\n",
      "\n",
      "\n",
      "####################\n",
      " PR AUC mean, val: 0.819\n",
      "####################\n",
      "\n",
      "Epoch 9/20\n",
      "138/138 [==============================] - 200s 1s/step - loss: 2.5402 - accuracy: 0.4835 - val_loss: 2.8360 - val_accuracy: 0.4926\n",
      "\n",
      "##############################\n",
      "\n",
      "PR AUC Fish, train: 0.844\n",
      "\n",
      "PR AUC Flower, train: 0.912\n",
      "\n",
      "PR AUC Sugar, train: 0.894\n",
      "\n",
      "PR AUC Gravel, train: 0.847\n",
      "\n",
      "\n",
      "####################\n",
      " PR AUC mean, train: 0.875\n",
      "####################\n",
      "\n",
      "\n",
      "##############################\n",
      "\n",
      "PR AUC Fish, val: 0.765\n",
      "\n",
      "PR AUC Flower, val: 0.853\n",
      "\n",
      "PR AUC Sugar, val: 0.889\n",
      "\n",
      "PR AUC Gravel, val: 0.806\n",
      "\n",
      "\n",
      "####################\n",
      " PR AUC mean, val: 0.828\n",
      "####################\n",
      "\n",
      "\n",
      "####################\n",
      "Reduced learning rate to 0.0005000000237487257.\n",
      "####################\n",
      "\n",
      "Epoch 10/20\n",
      "138/138 [==============================] - 195s 1s/step - loss: 2.4682 - accuracy: 0.5016 - val_loss: 2.8715 - val_accuracy: 0.4972\n",
      "\n",
      "##############################\n",
      "\n",
      "PR AUC Fish, train: 0.879\n",
      "\n",
      "PR AUC Flower, train: 0.930\n",
      "\n",
      "PR AUC Sugar, train: 0.919\n",
      "\n",
      "PR AUC Gravel, train: 0.887\n",
      "\n",
      "\n",
      "####################\n",
      " PR AUC mean, train: 0.904\n",
      "####################\n",
      "\n",
      "\n",
      "##############################\n",
      "\n",
      "PR AUC Fish, val: 0.783\n",
      "\n",
      "PR AUC Flower, val: 0.882\n",
      "\n",
      "PR AUC Sugar, val: 0.901\n",
      "\n",
      "PR AUC Gravel, val: 0.818\n",
      "\n",
      "\n",
      "####################\n",
      " PR AUC mean, val: 0.846\n",
      "####################\n",
      "\n",
      "\n",
      "####################\n",
      "Saved new checkpoint\n",
      "####################\n",
      "\n",
      "Epoch 11/20\n",
      "138/138 [==============================] - 196s 1s/step - loss: 2.4290 - accuracy: 0.4891 - val_loss: 2.9092 - val_accuracy: 0.4724\n",
      "\n",
      "##############################\n",
      "\n",
      "PR AUC Fish, train: 0.892\n",
      "\n",
      "PR AUC Flower, train: 0.941\n",
      "\n",
      "PR AUC Sugar, train: 0.919\n",
      "\n",
      "PR AUC Gravel, train: 0.895\n",
      "\n",
      "\n",
      "####################\n",
      " PR AUC mean, train: 0.912\n",
      "####################\n",
      "\n",
      "\n",
      "##############################\n",
      "\n",
      "PR AUC Fish, val: 0.775\n",
      "\n",
      "PR AUC Flower, val: 0.880\n",
      "\n",
      "PR AUC Sugar, val: 0.886\n",
      "\n",
      "PR AUC Gravel, val: 0.817\n",
      "\n",
      "\n",
      "####################\n",
      " PR AUC mean, val: 0.839\n",
      "####################\n",
      "\n",
      "Epoch 12/20\n",
      "138/138 [==============================] - 199s 1s/step - loss: 2.4015 - accuracy: 0.5034 - val_loss: 2.9748 - val_accuracy: 0.4697\n",
      "\n",
      "##############################\n",
      "\n",
      "PR AUC Fish, train: 0.895\n",
      "\n",
      "PR AUC Flower, train: 0.941\n",
      "\n",
      "PR AUC Sugar, train: 0.924\n",
      "\n",
      "PR AUC Gravel, train: 0.897\n",
      "\n",
      "\n",
      "####################\n",
      " PR AUC mean, train: 0.914\n",
      "####################\n",
      "\n",
      "\n",
      "##############################\n",
      "\n",
      "PR AUC Fish, val: 0.754\n",
      "\n",
      "PR AUC Flower, val: 0.873\n",
      "\n",
      "PR AUC Sugar, val: 0.888\n",
      "\n",
      "PR AUC Gravel, val: 0.799\n",
      "\n",
      "\n",
      "####################\n",
      " PR AUC mean, val: 0.829\n",
      "####################\n",
      "\n",
      "Epoch 13/20\n",
      "138/138 [==============================] - 197s 1s/step - loss: 2.3766 - accuracy: 0.5036 - val_loss: 2.8061 - val_accuracy: 0.5368\n",
      "\n",
      "##############################\n",
      "\n",
      "PR AUC Fish, train: 0.888\n",
      "\n",
      "PR AUC Flower, train: 0.948\n",
      "\n",
      "PR AUC Sugar, train: 0.922\n",
      "\n",
      "PR AUC Gravel, train: 0.908\n",
      "\n",
      "\n",
      "####################\n",
      " PR AUC mean, train: 0.916\n",
      "####################\n",
      "\n",
      "\n",
      "##############################\n",
      "\n",
      "PR AUC Fish, val: 0.724\n",
      "\n",
      "PR AUC Flower, val: 0.878\n",
      "\n",
      "PR AUC Sugar, val: 0.882\n",
      "\n",
      "PR AUC Gravel, val: 0.800\n",
      "\n",
      "\n",
      "####################\n",
      " PR AUC mean, val: 0.821\n",
      "####################\n",
      "\n",
      "\n",
      "####################\n",
      "Reduced learning rate to 0.0002500000118743628.\n",
      "####################\n",
      "\n",
      "Epoch 14/20\n",
      "138/138 [==============================] - 195s 1s/step - loss: 2.3018 - accuracy: 0.4946 - val_loss: 2.9496 - val_accuracy: 0.5074\n",
      "\n",
      "##############################\n",
      "\n",
      "PR AUC Fish, train: 0.922\n",
      "\n",
      "PR AUC Flower, train: 0.953\n",
      "\n",
      "PR AUC Sugar, train: 0.934\n",
      "\n",
      "PR AUC Gravel, train: 0.929\n",
      "\n",
      "\n",
      "####################\n",
      " PR AUC mean, train: 0.934\n",
      "####################\n",
      "\n",
      "\n",
      "##############################\n",
      "\n",
      "PR AUC Fish, val: 0.763\n",
      "\n",
      "PR AUC Flower, val: 0.895\n",
      "\n",
      "PR AUC Sugar, val: 0.874\n",
      "\n",
      "PR AUC Gravel, val: 0.801\n",
      "\n",
      "\n",
      "####################\n",
      " PR AUC mean, val: 0.833\n",
      "####################\n",
      "\n",
      "\n",
      "####################\n",
      "Reduced learning rate to 0.0001250000059371814.\n",
      "####################\n",
      "\n",
      "Epoch 15/20\n",
      "138/138 [==============================] - 197s 1s/step - loss: 2.2442 - accuracy: 0.5054 - val_loss: 3.0402 - val_accuracy: 0.4559\n",
      "\n",
      "##############################\n",
      "\n",
      "PR AUC Fish, train: 0.938\n",
      "\n",
      "PR AUC Flower, train: 0.962\n",
      "\n",
      "PR AUC Sugar, train: 0.941\n",
      "\n",
      "PR AUC Gravel, train: 0.939\n",
      "\n",
      "\n",
      "####################\n",
      " PR AUC mean, train: 0.945\n",
      "####################\n",
      "\n",
      "\n",
      "##############################\n",
      "\n",
      "PR AUC Fish, val: 0.763\n",
      "\n",
      "PR AUC Flower, val: 0.888\n",
      "\n",
      "PR AUC Sugar, val: 0.893\n",
      "\n",
      "PR AUC Gravel, val: 0.802\n",
      "\n",
      "\n",
      "####################\n",
      " PR AUC mean, val: 0.837\n",
      "####################\n",
      "\n"
     ]
    }
   ],
   "source": [
    "for base_layer in model.layers[:-3]:\n",
    "    base_layer.trainable = True\n",
    "    \n",
    "model.compile(optimizer=RAdam(warmup_proportion=0.1, min_lr=1e-5),  loss='categorical_crossentropy', metrics=['accuracy'])\n",
    "history_1 = model.fit_generator(generator=data_generator_train,\n",
    "                              validation_data=data_generator_val,\n",
    "                              epochs=20,\n",
    "                              callbacks=[train_metric_callback, val_callback],\n",
    "                              workers=num_cores,\n",
    "                              verbose=1,\n",
    "                              initial_epoch=1\n",
    "                             )"
   ]
  },
  {
   "cell_type": "markdown",
   "metadata": {},
   "source": [
    "## Visualizing train and val PR AUC"
   ]
  },
  {
   "cell_type": "code",
   "execution_count": 19,
   "metadata": {},
   "outputs": [],
   "source": [
    "def plot_with_dots(ax, np_array):\n",
    "    ax.scatter(list(range(1, len(np_array) + 1)), np_array, s=50)\n",
    "    ax.plot(list(range(1, len(np_array) + 1)), np_array)"
   ]
  },
  {
   "cell_type": "code",
   "execution_count": 20,
   "metadata": {},
   "outputs": [
    {
     "data": {
      "image/png": "[encoded data removed]",
      "text/plain": [
       "<Figure size 720x504 with 1 Axes>"
      ]
     },
     "metadata": {
      "needs_background": "light"
     },
     "output_type": "display_data"
    }
   ],
   "source": [
    "pr_auc_history_train = train_metric_callback.get_pr_auc_history()\n",
    "pr_auc_history_val = val_callback.get_pr_auc_history()\n",
    "\n",
    "plt.figure(figsize=(10, 7))\n",
    "plot_with_dots(plt, pr_auc_history_train[-1])\n",
    "plot_with_dots(plt, pr_auc_history_val[-1])\n",
    "\n",
    "plt.xlabel('Epoch', fontsize=15)\n",
    "plt.ylabel('Mean PR AUC', fontsize=15)\n",
    "plt.legend(['Train', 'Val'])\n",
    "plt.title('Training and Validation PR AUC', fontsize=20)\n",
    "plt.savefig('pr_auc_hist.png')"
   ]
  },
  {
   "cell_type": "code",
   "execution_count": 21,
   "metadata": {},
   "outputs": [
    {
     "data": {
      "image/png": "[encoded data removed]",
      "text/plain": [
       "<Figure size 720x504 with 1 Axes>"
      ]
     },
     "metadata": {
      "needs_background": "light"
     },
     "output_type": "display_data"
    }
   ],
   "source": [
    "plt.figure(figsize=(10, 7))\n",
    "plot_with_dots(plt, history_0.history['loss']+history_1.history['loss'])\n",
    "plot_with_dots(plt, history_0.history['val_loss']+history_1.history['val_loss'])\n",
    "\n",
    "plt.xlabel('Epoch', fontsize=15)\n",
    "plt.ylabel('Binary Crossentropy', fontsize=15)\n",
    "plt.legend(['Train', 'Val'])\n",
    "plt.title('Training and Validation Loss', fontsize=20)\n",
    "plt.savefig('loss_hist.png')"
   ]
  },
  {
   "cell_type": "code",
   "execution_count": 24,
   "metadata": {
    "ExecuteTime": {
     "end_time": "2019-11-09T06:29:56.355960Z",
     "start_time": "2019-11-09T06:29:56.350884Z"
    }
   },
   "outputs": [],
   "source": [
    "import efficientnet\n",
    "efficientnet.sq"
   ]
  },
  {
   "cell_type": "markdown",
   "metadata": {},
   "source": [
    "I left the model to train longer on my local GPU. I then upload the best model and plots from the model training."
   ]
  },
  {
   "cell_type": "code",
   "execution_count": 13,
   "metadata": {
    "ExecuteTime": {
     "end_time": "2019-11-16T15:19:38.367460Z",
     "start_time": "2019-11-16T15:19:06.134736Z"
    }
   },
   "outputs": [
    {
     "name": "stderr",
     "output_type": "stream",
     "text": [
      "W1116 18:19:15.930072 140150228264768 deprecation_wrapper.py:119] From /home/dex/anaconda3/envs/keras_env/lib/python3.7/site-packages/keras/optimizers.py:790: The name tf.train.Optimizer is deprecated. Please use tf.compat.v1.train.Optimizer instead.\n",
      "\n",
      "W1116 18:19:16.040837 140150228264768 deprecation.py:323] From /home/dex/anaconda3/envs/keras_env/lib/python3.7/site-packages/tensorflow/python/ops/math_grad.py:1250: add_dispatch_support.<locals>.wrapper (from tensorflow.python.ops.array_ops) is deprecated and will be removed in a future version.\n",
      "Instructions for updating:\n",
      "Use tf.where in 2.0, which has the same broadcast rule as np.where\n"
     ]
    }
   ],
   "source": [
    "from keras_radam import RAdam\n",
    "model = load_model('/home/dex/Downloads/classifier_densenet169_epoch_9_val_pr_auc_0.8459108536857672.h5', custom_objects={'RAdam':RAdam})"
   ]
  },
  {
   "cell_type": "markdown",
   "metadata": {},
   "source": [
    "# Selecting postprocessing thresholds"
   ]
  },
  {
   "cell_type": "code",
   "execution_count": 23,
   "metadata": {
    "ExecuteTime": {
     "end_time": "2019-11-12T18:41:54.222291Z",
     "start_time": "2019-11-12T18:41:40.710783Z"
    }
   },
   "outputs": [
    {
     "data": {
      "application/vnd.jupyter.widget-view+json": {
       "model_id": "7ca23eed123e432cbbde8752283db58c",
       "version_major": 2,
       "version_minor": 0
      },
      "text/plain": [
       "HBox(children=(IntProgress(value=1, bar_style='info', max=1), HTML(value='')))"
      ]
     },
     "metadata": {},
     "output_type": "display_data"
    },
    {
     "name": "stdout",
     "output_type": "stream",
     "text": [
      "\n"
     ]
    },
    {
     "data": {
      "image/png": "[encoded data removed]",
      "text/plain": [
       "<Figure size 720x504 with 1 Axes>"
      ]
     },
     "metadata": {
      "needs_background": "light"
     },
     "output_type": "display_data"
    },
    {
     "data": {
      "image/png": "[encoded data removed]",
      "text/plain": [
       "<Figure size 720x504 with 1 Axes>"
      ]
     },
     "metadata": {
      "needs_background": "light"
     },
     "output_type": "display_data"
    },
    {
     "data": {
      "image/png": "[encoded data removed]",
      "text/plain": [
       "<Figure size 720x504 with 1 Axes>"
      ]
     },
     "metadata": {
      "needs_background": "light"
     },
     "output_type": "display_data"
    },
    {
     "data": {
      "image/png": "[encoded data removed]",
      "text/plain": [
       "<Figure size 720x504 with 1 Axes>"
      ]
     },
     "metadata": {
      "needs_background": "light"
     },
     "output_type": "display_data"
    }
   ],
   "source": [
    "class_names = ['Fish', 'Flower', 'Sugar', 'Gravel']\n",
    "def get_threshold_for_recall(y_true, y_pred, class_i, recall_threshold=0.94, precision_threshold=0.90, plot=False):\n",
    "    precision, recall, thresholds = precision_recall_curve(y_true[:, class_i], y_pred[:, class_i])\n",
    "    i = len(thresholds) - 1\n",
    "    best_recall_threshold = None\n",
    "    while best_recall_threshold is None:\n",
    "        next_threshold = thresholds[i]\n",
    "        next_recall = recall[i]\n",
    "        if next_recall >= recall_threshold:\n",
    "            best_recall_threshold = next_threshold\n",
    "        i -= 1\n",
    "        \n",
    "    # consice, even though unnecessary passing through all the values\n",
    "    best_precision_threshold = [thres for prec, thres in zip(precision, thresholds) if prec >= precision_threshold][0]\n",
    "    \n",
    "    if plot:\n",
    "        plt.figure(figsize=(10, 7))\n",
    "        plt.step(recall, precision, color='r', alpha=0.3, where='post')\n",
    "        plt.fill_between(recall, precision, alpha=0.3, color='r')\n",
    "        plt.axhline(y=precision[i + 1])\n",
    "        recall_for_prec_thres = [rec for rec, thres in zip(recall, thresholds) \n",
    "                                 if thres == best_precision_threshold][0]\n",
    "        plt.axvline(x=recall_for_prec_thres, color='g')\n",
    "        plt.xlabel('Recall')\n",
    "        plt.ylabel('Precision')\n",
    "        plt.ylim([0.0, 1.05])\n",
    "        plt.xlim([0.0, 1.0])\n",
    "        plt.legend(['PR curve', \n",
    "                    f'Precision {precision[i + 1]: .2f} corresponding to selected recall threshold',\n",
    "                    f'Recall {recall_for_prec_thres: .2f} corresponding to selected precision threshold'])\n",
    "        plt.title(f'Precision-Recall curve for Class {class_names[class_i]}')\n",
    "    return best_recall_threshold, best_precision_threshold\n",
    "\n",
    "y_pred = model.predict_generator(data_generator_val, workers=num_cores)\n",
    "y_true = data_generator_val.get_labels()\n",
    "recall_thresholds = dict()\n",
    "precision_thresholds = dict()\n",
    "for i, class_name in tqdm(enumerate(class_names)):\n",
    "    recall_thresholds[class_name], precision_thresholds[class_name] = get_threshold_for_recall(y_true, y_pred, i, plot=True)"
   ]
  },
  {
   "cell_type": "markdown",
   "metadata": {},
   "source": [
    "# Post-processing segmentation submission"
   ]
  },
  {
   "cell_type": "markdown",
   "metadata": {},
   "source": [
    "Predicting cloud classes for test."
   ]
  },
  {
   "cell_type": "code",
   "execution_count": 14,
   "metadata": {
    "ExecuteTime": {
     "end_time": "2019-11-16T15:21:16.198176Z",
     "start_time": "2019-11-16T15:20:47.922803Z"
    }
   },
   "outputs": [],
   "source": [
    "data_generator_test = DataGenenerator(folder_imgs=test_imgs_folder, shuffle=False)\n",
    "y_pred_test = model.predict_generator(data_generator_test, workers=num_cores)"
   ]
  },
  {
   "cell_type": "markdown",
   "metadata": {},
   "source": [
    "Estimating set of images without masks."
   ]
  },
  {
   "cell_type": "code",
   "execution_count": 39,
   "metadata": {
    "ExecuteTime": {
     "end_time": "2019-11-16T15:44:26.919122Z",
     "start_time": "2019-11-16T15:44:26.915305Z"
    }
   },
   "outputs": [],
   "source": [
    "recall_thresholds = {'Fish': 0.29,\n",
    " 'Flower': 0.4,\n",
    " 'Sugar': 0.29,\n",
    " 'Gravel': 0.29}"
   ]
  },
  {
   "cell_type": "code",
   "execution_count": 40,
   "metadata": {
    "ExecuteTime": {
     "end_time": "2019-11-16T15:44:27.869289Z",
     "start_time": "2019-11-16T15:44:27.819770Z"
    }
   },
   "outputs": [],
   "source": [
    "image_labels_empty = set()\n",
    "class_names = ['Fish', 'Flower', 'Sugar', 'Gravel']\n",
    "for i, (img, predictions) in enumerate(zip(os.listdir(test_imgs_folder), y_pred_test)):\n",
    "    for class_i, class_name in enumerate(class_names):\n",
    "        if predictions[class_i] < recall_thresholds[class_name]:\n",
    "            image_labels_empty.add(f'{img}_{class_name}')"
   ]
  },
  {
   "cell_type": "code",
   "execution_count": 20,
   "metadata": {
    "ExecuteTime": {
     "end_time": "2019-11-16T15:25:56.591591Z",
     "start_time": "2019-11-16T15:25:56.573879Z"
    }
   },
   "outputs": [
    {
     "ename": "NameError",
     "evalue": "name 'precision_thresholds' is not defined",
     "output_type": "error",
     "traceback": [
      "\u001b[0;31m---------------------------------------------------------------------------\u001b[0m",
      "\u001b[0;31mNameError\u001b[0m                                 Traceback (most recent call last)",
      "\u001b[0;32m<ipython-input-20-14df8bfaf484>\u001b[0m in \u001b[0;36m<module>\u001b[0;34m\u001b[0m\n\u001b[0;32m----> 1\u001b[0;31m \u001b[0mrecall_thresholds\u001b[0m\u001b[0;34m,\u001b[0m \u001b[0mprecision_thresholds\u001b[0m\u001b[0;34m\u001b[0m\u001b[0;34m\u001b[0m\u001b[0m\n\u001b[0m",
      "\u001b[0;31mNameError\u001b[0m: name 'precision_thresholds' is not defined"
     ]
    }
   ],
   "source": [
    "recall_thresholds, precision_thresholds"
   ]
  },
  {
   "cell_type": "markdown",
   "metadata": {},
   "source": [
    "Segmentation results:"
   ]
  },
  {
   "cell_type": "code",
   "execution_count": 41,
   "metadata": {
    "ExecuteTime": {
     "end_time": "2019-11-16T15:44:31.269807Z",
     "start_time": "2019-11-16T15:44:31.068930Z"
    }
   },
   "outputs": [
    {
     "data": {
      "text/html": [
       "<div>\n",
       "<style scoped>\n",
       "    .dataframe tbody tr th:only-of-type {\n",
       "        vertical-align: middle;\n",
       "    }\n",
       "\n",
       "    .dataframe tbody tr th {\n",
       "        vertical-align: top;\n",
       "    }\n",
       "\n",
       "    .dataframe thead th {\n",
       "        text-align: right;\n",
       "    }\n",
       "</style>\n",
       "<table border=\"1\" class=\"dataframe\">\n",
       "  <thead>\n",
       "    <tr style=\"text-align: right;\">\n",
       "      <th></th>\n",
       "      <th>Image_Label</th>\n",
       "      <th>EncodedPixels</th>\n",
       "    </tr>\n",
       "  </thead>\n",
       "  <tbody>\n",
       "    <tr>\n",
       "      <th>0</th>\n",
       "      <td>877691a.jpg_Fish</td>\n",
       "      <td>108 238 449 249 796 253 1142 257 1489 260 1836...</td>\n",
       "    </tr>\n",
       "    <tr>\n",
       "      <th>1</th>\n",
       "      <td>877691a.jpg_Flower</td>\n",
       "      <td>113830 27 114176 79 114523 107 114870 113 1152...</td>\n",
       "    </tr>\n",
       "    <tr>\n",
       "      <th>2</th>\n",
       "      <td>877691a.jpg_Gravel</td>\n",
       "      <td>NaN</td>\n",
       "    </tr>\n",
       "    <tr>\n",
       "      <th>3</th>\n",
       "      <td>877691a.jpg_Sugar</td>\n",
       "      <td>NaN</td>\n",
       "    </tr>\n",
       "    <tr>\n",
       "      <th>4</th>\n",
       "      <td>e810552.jpg_Fish</td>\n",
       "      <td>NaN</td>\n",
       "    </tr>\n",
       "  </tbody>\n",
       "</table>\n",
       "</div>"
      ],
      "text/plain": [
       "          Image_Label                                      EncodedPixels\n",
       "0    877691a.jpg_Fish  108 238 449 249 796 253 1142 257 1489 260 1836...\n",
       "1  877691a.jpg_Flower  113830 27 114176 79 114523 107 114870 113 1152...\n",
       "2  877691a.jpg_Gravel                                                NaN\n",
       "3   877691a.jpg_Sugar                                                NaN\n",
       "4    e810552.jpg_Fish                                                NaN"
      ]
     },
     "execution_count": 41,
     "metadata": {},
     "output_type": "execute_result"
    }
   ],
   "source": [
    "submission = pd.read_csv('sub_convex_0.6586.csv')\n",
    "#pd.read_csv('/home/dex/Desktop/ml/cloud artgor/submissions/submission_Model_segmentation_segm_resnet152_bs_5_2019-11-05.csv')\n",
    "#submission = pd.read_csv('../input/densenet201cloudy/densenet201.csv')\n",
    "submission.head()"
   ]
  },
  {
   "cell_type": "code",
   "execution_count": 28,
   "metadata": {
    "ExecuteTime": {
     "end_time": "2019-11-16T15:34:15.438788Z",
     "start_time": "2019-11-16T15:34:15.430760Z"
    }
   },
   "outputs": [],
   "source": [
    "predictions_nonempty = set(submission.loc[~submission['EncodedPixels'].isnull(), 'Image_Label'].values)"
   ]
  },
  {
   "cell_type": "code",
   "execution_count": 29,
   "metadata": {
    "ExecuteTime": {
     "end_time": "2019-11-16T15:34:16.067608Z",
     "start_time": "2019-11-16T15:34:16.062552Z"
    }
   },
   "outputs": [
    {
     "name": "stdout",
     "output_type": "stream",
     "text": [
      "92 masks would be removed\n"
     ]
    }
   ],
   "source": [
    "print(f'{len(image_labels_empty.intersection(predictions_nonempty))} masks would be removed')"
   ]
  },
  {
   "cell_type": "code",
   "execution_count": 30,
   "metadata": {
    "ExecuteTime": {
     "end_time": "2019-11-16T15:34:16.955446Z",
     "start_time": "2019-11-16T15:34:16.686423Z"
    }
   },
   "outputs": [],
   "source": [
    "#removing masks\n",
    "submission.loc[submission['Image_Label'].isin(image_labels_empty), 'EncodedPixels'] = np.nan\n",
    "submission.to_csv('submission_segmentation_and_classifier_628.csv', index=None)"
   ]
  },
  {
   "cell_type": "markdown",
   "metadata": {},
   "source": [
    "# Future work\n",
    "1. estimate distribution of classes in test set using the classifier. Then, if necessary and doable, modify val set accordingly,\n",
    "2. use the classifier with explainability technique [Gradient-weighted Class Activation Mapping](http://gradcam.cloudcv.org/) to generate a baseline, (please see [GradCAM: extracting masks from classifier](https://www.kaggle.com/samusram/gradcam-extracting-masks-from-classifier)),\n",
    "3. improve the classifier,\n",
    "4. use the classifier as backbone for UNet-like solution."
   ]
  },
  {
   "cell_type": "code",
   "execution_count": 4,
   "metadata": {
    "ExecuteTime": {
     "end_time": "2019-11-12T18:30:02.939807Z",
     "start_time": "2019-11-12T18:30:02.706581Z"
    }
   },
   "outputs": [],
   "source": [
    "import pandas as pd\n",
    "import os\n",
    "from tqdm import tqdm\n",
    "test_imgs_folder = '/home/dex/Desktop/ml/cloud data//test_images/'\n",
    "folder_images = '/home/dex/Desktop/ml/clouds/input/understanding-clouds-resized/test_images_525/test_images_525'\n",
    "model_class_names=['Fish', 'Flower', 'Gravel', 'Sugar']\n",
    "sub = pd.read_csv('/home/dex/Downloads/submission_segmentation_and_classifier (1).csv')"
   ]
  },
  {
   "cell_type": "code",
   "execution_count": 5,
   "metadata": {
    "ExecuteTime": {
     "end_time": "2019-11-12T18:30:04.061839Z",
     "start_time": "2019-11-12T18:30:04.049202Z"
    }
   },
   "outputs": [
    {
     "data": {
      "text/html": [
       "<div>\n",
       "<style scoped>\n",
       "    .dataframe tbody tr th:only-of-type {\n",
       "        vertical-align: middle;\n",
       "    }\n",
       "\n",
       "    .dataframe tbody tr th {\n",
       "        vertical-align: top;\n",
       "    }\n",
       "\n",
       "    .dataframe thead th {\n",
       "        text-align: right;\n",
       "    }\n",
       "</style>\n",
       "<table border=\"1\" class=\"dataframe\">\n",
       "  <thead>\n",
       "    <tr style=\"text-align: right;\">\n",
       "      <th></th>\n",
       "      <th>Image_Label</th>\n",
       "      <th>EncodedPixels</th>\n",
       "    </tr>\n",
       "  </thead>\n",
       "  <tbody>\n",
       "    <tr>\n",
       "      <th>0</th>\n",
       "      <td>002f507.jpg_Fish</td>\n",
       "      <td>NaN</td>\n",
       "    </tr>\n",
       "    <tr>\n",
       "      <th>1</th>\n",
       "      <td>002f507.jpg_Flower</td>\n",
       "      <td>NaN</td>\n",
       "    </tr>\n",
       "    <tr>\n",
       "      <th>2</th>\n",
       "      <td>002f507.jpg_Gravel</td>\n",
       "      <td>5 337 353 343 702 346 1052 347 1401 348 1751 3...</td>\n",
       "    </tr>\n",
       "    <tr>\n",
       "      <th>3</th>\n",
       "      <td>002f507.jpg_Sugar</td>\n",
       "      <td>NaN</td>\n",
       "    </tr>\n",
       "    <tr>\n",
       "      <th>4</th>\n",
       "      <td>0035ae9.jpg_Fish</td>\n",
       "      <td>NaN</td>\n",
       "    </tr>\n",
       "  </tbody>\n",
       "</table>\n",
       "</div>"
      ],
      "text/plain": [
       "          Image_Label                                      EncodedPixels\n",
       "0    002f507.jpg_Fish                                                NaN\n",
       "1  002f507.jpg_Flower                                                NaN\n",
       "2  002f507.jpg_Gravel  5 337 353 343 702 346 1052 347 1401 348 1751 3...\n",
       "3   002f507.jpg_Sugar                                                NaN\n",
       "4    0035ae9.jpg_Fish                                                NaN"
      ]
     },
     "execution_count": 5,
     "metadata": {},
     "output_type": "execute_result"
    }
   ],
   "source": [
    "sub.head()"
   ]
  },
  {
   "cell_type": "code",
   "execution_count": 6,
   "metadata": {
    "ExecuteTime": {
     "end_time": "2019-11-12T18:32:40.283747Z",
     "start_time": "2019-11-12T18:30:20.228515Z"
    }
   },
   "outputs": [
    {
     "name": "stderr",
     "output_type": "stream",
     "text": [
      "100%|██████████| 3698/3698 [02:19<00:00, 27.25it/s]\n"
     ]
    }
   ],
   "source": [
    "def rle_decode(mask_rle: str = '', shape = (1400, 2100)):\n",
    "    '''\n",
    "    Decode rle encoded mask.\n",
    "    \n",
    "    :param mask_rle: run-length as string formatted (start length)\n",
    "    :param shape: (height, width) of array to return \n",
    "    Returns numpy array, 1 - mask, 0 - background\n",
    "    '''\n",
    "    s = mask_rle.split()\n",
    "    starts, lengths = [np.asarray(x, dtype=int) for x in (s[0:][::2], s[1:][::2])]\n",
    "    starts -= 1\n",
    "    ends = starts + lengths\n",
    "    img = np.zeros(shape[0] * shape[1], dtype=np.uint8)\n",
    "    for lo, hi in zip(starts, ends):\n",
    "        img[lo:hi] = 1\n",
    "    \n",
    "    return img.reshape(shape, order='F')\n",
    "\n",
    "def mask2rle(img):\n",
    "    '''\n",
    "    Convert mask to rle.\n",
    "    img: numpy array, 1 - mask, 0 - background\n",
    "    Returns run length as string formated\n",
    "    '''\n",
    "    pixels= img.T.flatten()\n",
    "    pixels = np.concatenate([[0], pixels, [0]])\n",
    "    runs = np.where(pixels[1:] != pixels[:-1])[0] + 1\n",
    "    runs[1::2] -= runs[::2]\n",
    "    return ' '.join(str(x) for x in runs)\n",
    "\n",
    "\n",
    "\n",
    "\n",
    "min_size = [10000 ,10000, 10000, 10000]\n",
    "def post_process_minsize(mask, min_size):\n",
    "    \"\"\"\n",
    "    Post processing of each predicted mask, components with lesser number of pixels\n",
    "    than `min_size` are ignored\n",
    "    \"\"\"\n",
    "    \n",
    "    num_component, component = cv2.connectedComponents(mask.astype(np.uint8))\n",
    "    predictions = np.zeros(mask.shape)\n",
    "    num = 0\n",
    "    for c in range(1, num_component):\n",
    "        p = (component == c)\n",
    "        if p.sum() > min_size:\n",
    "            predictions[p] = 1\n",
    "            num += 1\n",
    "    return predictions #, num\n",
    "def make_mask(df, image_label, shape = (1400, 2100), cv_shape = (525, 350),debug=False):\n",
    "    \"\"\"\n",
    "    Create mask based on df, image name and shape.\n",
    "    \"\"\"\n",
    "    if debug:\n",
    "        print(shape,cv_shape)\n",
    "    df = df.set_index('Image_Label')\n",
    "    encoded_mask = df.loc[image_label, 'EncodedPixels']\n",
    "#     print('encode: ',encoded_mask[:10])\n",
    "    mask = np.zeros((shape[0], shape[1]), dtype=np.float32)\n",
    "    if encoded_mask is not np.nan:\n",
    "        mask = rle_decode(encoded_mask,shape=shape) # original size\n",
    "            \n",
    "    return cv2.resize(mask, cv_shape)\n",
    "def draw_convex_hull(mask, mode='convex'):\n",
    "    \n",
    "    img = np.zeros(mask.shape)\n",
    "    contours, hier = cv2.findContours(mask, cv2.RETR_TREE, cv2.CHAIN_APPROX_SIMPLE)\n",
    "    \n",
    "    for c in contours:\n",
    "        if mode=='rect': # simple rectangle\n",
    "            x, y, w, h = cv2.boundingRect(c)\n",
    "            cv2.rectangle(img, (x, y), (x+w, y+h), (255, 255, 255), -1)\n",
    "        elif mode=='convex': # minimum convex hull\n",
    "            hull = cv2.convexHull(c)\n",
    "            cv2.drawContours(img, [hull], 0, (255, 255, 255),-1)\n",
    "        elif mode=='approx':\n",
    "            epsilon = 0.02*cv2.arcLength(c,True)\n",
    "            approx = cv2.approxPolyDP(c,epsilon,True)\n",
    "            cv2.drawContours(img, [approx], 0, (255, 255, 255),-1)\n",
    "        else: # minimum area rectangle\n",
    "            rect = cv2.minAreaRect(c)\n",
    "            box = cv2.boxPoints(rect)\n",
    "            box = np.int0(box)\n",
    "            cv2.drawContours(img, [box], 0, (255, 255, 255),-1)\n",
    "    return img/255.\n",
    "\n",
    "mode='convex' # choose from 'rect', 'min', 'convex' and 'approx'\n",
    "\n",
    "img_label_list = []\n",
    "enc_pixels_list = []\n",
    "test_imgs = os.listdir(folder_images)\n",
    "for test_img_i, test_img in enumerate(tqdm(test_imgs)):\n",
    "    for class_i, class_name in enumerate(model_class_names):\n",
    "        \n",
    "        path = os.path.join(folder_images, test_img)\n",
    "        img = cv2.imread(path).astype(np.float32) # use already-resized ryches' dataset\n",
    "        img = img/255.\n",
    "        img2 = cv2.cvtColor(img, cv2.COLOR_BGR2GRAY)\n",
    "        \n",
    "        img_label_list.append(f'{test_img}_{class_name}')\n",
    "        \n",
    "        mask = make_mask(sub, test_img + '_' + class_name,shape=(350,525))\n",
    "        if True:\n",
    "        #if class_name == 'Flower' or class_name =='Sugar': # you can decide to post-process for some certain classes \n",
    "            mask = draw_convex_hull(mask.astype(np.uint8), mode=mode)\n",
    "        mask[img2<=2/255.] = 0\n",
    "        mask = post_process_minsize(mask, min_size[class_i])\n",
    "        \n",
    "        if mask.sum() == 0:\n",
    "            enc_pixels_list.append(np.nan)\n",
    "        else:\n",
    "            mask = np.where(mask > 0.5, 1.0, 0.0)\n",
    "            enc_pixels_list.append(mask2rle(mask))\n",
    "            \n",
    "submission_df = pd.DataFrame({'Image_Label': img_label_list, 'EncodedPixels': enc_pixels_list})\n",
    "submission_df.to_csv('sub_convex_0.6586.csv', index=None)\n",
    "class_names = ['Fish', 'Flower', 'Sugar', 'Gravel']\n"
   ]
  },
  {
   "cell_type": "code",
   "execution_count": null,
   "metadata": {},
   "outputs": [],
   "source": []
  }
 ],
 "metadata": {
  "kernelspec": {
   "display_name": "Python 3",
   "language": "python",
   "name": "python3"
  },
  "language_info": {
   "codemirror_mode": {
    "name": "ipython",
    "version": 3
   },
   "file_extension": ".py",
   "mimetype": "text/x-python",
   "name": "python",
   "nbconvert_exporter": "python",
   "pygments_lexer": "ipython3",
   "version": "3.7.3"
  },
  "varInspector": {
   "cols": {
    "lenName": 16,
    "lenType": 16,
    "lenVar": 40
   },
   "kernels_config": {
    "python": {
     "delete_cmd_postfix": "",
     "delete_cmd_prefix": "del ",
     "library": "var_list.py",
     "varRefreshCmd": "print(var_dic_list())"
    },
    "r": {
     "delete_cmd_postfix": ") ",
     "delete_cmd_prefix": "rm(",
     "library": "var_list.r",
     "varRefreshCmd": "cat(var_dic_list()) "
    }
   },
   "types_to_exclude": [
    "module",
    "function",
    "builtin_function_or_method",
    "instance",
    "_Feature"
   ],
   "window_display": false
  },
  "widgets": {
   "application/vnd.jupyter.widget-state+json": {
    "state": {
     "0a53fa055d2b43358bafff0a453d2c8b": {
      "model_module": "@jupyter-widgets/base",
      "model_module_version": "1.2.0",
      "model_name": "LayoutModel",
      "state": {
       "_model_module": "@jupyter-widgets/base",
       "_model_module_version": "1.2.0",
       "_model_name": "LayoutModel",
       "_view_count": null,
       "_view_module": "@jupyter-widgets/base",
       "_view_module_version": "1.2.0",
       "_view_name": "LayoutView",
       "align_content": null,
       "align_items": null,
       "align_self": null,
       "border": null,
       "bottom": null,
       "display": null,
       "flex": null,
       "flex_flow": null,
       "grid_area": null,
       "grid_auto_columns": null,
       "grid_auto_flow": null,
       "grid_auto_rows": null,
       "grid_column": null,
       "grid_gap": null,
       "grid_row": null,
       "grid_template_areas": null,
       "grid_template_columns": null,
       "grid_template_rows": null,
       "height": null,
       "justify_content": null,
       "justify_items": null,
       "left": null,
       "margin": null,
       "max_height": null,
       "max_width": null,
       "min_height": null,
       "min_width": null,
       "object_fit": null,
       "object_position": null,
       "order": null,
       "overflow": null,
       "overflow_x": null,
       "overflow_y": null,
       "padding": null,
       "right": null,
       "top": null,
       "visibility": null,
       "width": null
      }
     },
     "25064ebbb12a483690e0fd0feb52560b": {
      "model_module": "@jupyter-widgets/controls",
      "model_module_version": "1.5.0",
      "model_name": "ProgressStyleModel",
      "state": {
       "_model_module": "@jupyter-widgets/controls",
       "_model_module_version": "1.5.0",
       "_model_name": "ProgressStyleModel",
       "_view_count": null,
       "_view_module": "@jupyter-widgets/base",
       "_view_module_version": "1.2.0",
       "_view_name": "StyleView",
       "bar_color": null,
       "description_width": "initial"
      }
     },
     "38ff85bb09144a9aaebf4dd59f000c69": {
      "model_module": "@jupyter-widgets/controls",
      "model_module_version": "1.5.0",
      "model_name": "HBoxModel",
      "state": {
       "_dom_classes": [],
       "_model_module": "@jupyter-widgets/controls",
       "_model_module_version": "1.5.0",
       "_model_name": "HBoxModel",
       "_view_count": null,
       "_view_module": "@jupyter-widgets/controls",
       "_view_module_version": "1.5.0",
       "_view_name": "HBoxView",
       "box_style": "",
       "children": [
        "IPY_MODEL_7640235bcae6457c80e41c51a06677d5",
        "IPY_MODEL_dd1866cdda2742debd15613963dd4759"
       ],
       "layout": "IPY_MODEL_0a53fa055d2b43358bafff0a453d2c8b"
      }
     },
     "4fcf62cbaf71492f85b8e7e6f69a9105": {
      "model_module": "@jupyter-widgets/controls",
      "model_module_version": "1.5.0",
      "model_name": "DescriptionStyleModel",
      "state": {
       "_model_module": "@jupyter-widgets/controls",
       "_model_module_version": "1.5.0",
       "_model_name": "DescriptionStyleModel",
       "_view_count": null,
       "_view_module": "@jupyter-widgets/base",
       "_view_module_version": "1.2.0",
       "_view_name": "StyleView",
       "description_width": ""
      }
     },
     "7640235bcae6457c80e41c51a06677d5": {
      "model_module": "@jupyter-widgets/controls",
      "model_module_version": "1.5.0",
      "model_name": "IntProgressModel",
      "state": {
       "_dom_classes": [],
       "_model_module": "@jupyter-widgets/controls",
       "_model_module_version": "1.5.0",
       "_model_name": "IntProgressModel",
       "_view_count": null,
       "_view_module": "@jupyter-widgets/controls",
       "_view_module_version": "1.5.0",
       "_view_name": "ProgressView",
       "bar_style": "success",
       "description": "",
       "description_tooltip": null,
       "layout": "IPY_MODEL_eac971125b6e4705b4db95f6c2ab6318",
       "max": 1,
       "min": 0,
       "orientation": "horizontal",
       "style": "IPY_MODEL_25064ebbb12a483690e0fd0feb52560b",
       "value": 1
      }
     },
     "ca8b02376bfc46859708c5f3069f7ca5": {
      "model_module": "@jupyter-widgets/base",
      "model_module_version": "1.2.0",
      "model_name": "LayoutModel",
      "state": {
       "_model_module": "@jupyter-widgets/base",
       "_model_module_version": "1.2.0",
       "_model_name": "LayoutModel",
       "_view_count": null,
       "_view_module": "@jupyter-widgets/base",
       "_view_module_version": "1.2.0",
       "_view_name": "LayoutView",
       "align_content": null,
       "align_items": null,
       "align_self": null,
       "border": null,
       "bottom": null,
       "display": null,
       "flex": null,
       "flex_flow": null,
       "grid_area": null,
       "grid_auto_columns": null,
       "grid_auto_flow": null,
       "grid_auto_rows": null,
       "grid_column": null,
       "grid_gap": null,
       "grid_row": null,
       "grid_template_areas": null,
       "grid_template_columns": null,
       "grid_template_rows": null,
       "height": null,
       "justify_content": null,
       "justify_items": null,
       "left": null,
       "margin": null,
       "max_height": null,
       "max_width": null,
       "min_height": null,
       "min_width": null,
       "object_fit": null,
       "object_position": null,
       "order": null,
       "overflow": null,
       "overflow_x": null,
       "overflow_y": null,
       "padding": null,
       "right": null,
       "top": null,
       "visibility": null,
       "width": null
      }
     },
     "dd1866cdda2742debd15613963dd4759": {
      "model_module": "@jupyter-widgets/controls",
      "model_module_version": "1.5.0",
      "model_name": "HTMLModel",
      "state": {
       "_dom_classes": [],
       "_model_module": "@jupyter-widgets/controls",
       "_model_module_version": "1.5.0",
       "_model_name": "HTMLModel",
       "_view_count": null,
       "_view_module": "@jupyter-widgets/controls",
       "_view_module_version": "1.5.0",
       "_view_name": "HTMLView",
       "description": "",
       "description_tooltip": null,
       "layout": "IPY_MODEL_ca8b02376bfc46859708c5f3069f7ca5",
       "placeholder": "​",
       "style": "IPY_MODEL_4fcf62cbaf71492f85b8e7e6f69a9105",
       "value": " 4/? [00:00&lt;00:00, 13.35it/s]"
      }
     },
     "eac971125b6e4705b4db95f6c2ab6318": {
      "model_module": "@jupyter-widgets/base",
      "model_module_version": "1.2.0",
      "model_name": "LayoutModel",
      "state": {
       "_model_module": "@jupyter-widgets/base",
       "_model_module_version": "1.2.0",
       "_model_name": "LayoutModel",
       "_view_count": null,
       "_view_module": "@jupyter-widgets/base",
       "_view_module_version": "1.2.0",
       "_view_name": "LayoutView",
       "align_content": null,
       "align_items": null,
       "align_self": null,
       "border": null,
       "bottom": null,
       "display": null,
       "flex": null,
       "flex_flow": null,
       "grid_area": null,
       "grid_auto_columns": null,
       "grid_auto_flow": null,
       "grid_auto_rows": null,
       "grid_column": null,
       "grid_gap": null,
       "grid_row": null,
       "grid_template_areas": null,
       "grid_template_columns": null,
       "grid_template_rows": null,
       "height": null,
       "justify_content": null,
       "justify_items": null,
       "left": null,
       "margin": null,
       "max_height": null,
       "max_width": null,
       "min_height": null,
       "min_width": null,
       "object_fit": null,
       "object_position": null,
       "order": null,
       "overflow": null,
       "overflow_x": null,
       "overflow_y": null,
       "padding": null,
       "right": null,
       "top": null,
       "visibility": null,
       "width": null
      }
     }
    },
    "version_major": 2,
    "version_minor": 0
   }
  }
 },
 "nbformat": 4,
 "nbformat_minor": 1
}
